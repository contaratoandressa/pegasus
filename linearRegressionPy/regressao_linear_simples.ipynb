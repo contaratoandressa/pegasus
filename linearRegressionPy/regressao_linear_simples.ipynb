{
 "cells": [
  {
   "cell_type": "markdown",
   "metadata": {},
   "source": [
    "### Regressão Linear Simples"
   ]
  },
  {
   "cell_type": "code",
   "execution_count": 6,
   "metadata": {},
   "outputs": [],
   "source": [
    "# packages\n",
    "\n",
    "import numpy as np, pandas as pd, matplotlib.pyplot as plt, matplotlib as mpl, warnings, statsmodels.api as sm, statsmodels.formula.api as smf\n",
    "from scipy.stats.stats import pearsonr\n",
    "\n",
    "# numpy is a package for manipulation of the datas\n",
    "# pandas is to calculate several metrics\n",
    "# matplotlib is to visuzalize datas\n",
    "# warnings is to clean/show warnings\n",
    "# scipy calculating exploratoies analysis\n",
    "# statsmodels.api models regression (general)\n",
    "# statsmodels.formula.api equal R"
   ]
  },
  {
   "cell_type": "code",
   "execution_count": 5,
   "metadata": {},
   "outputs": [],
   "source": [
    "# warnings mensages\n",
    "\n",
    "warnings.filterwarnings(\"ignore\")\n",
    "%matplotlib inline \n"
   ]
  },
  {
   "cell_type": "markdown",
   "metadata": {},
   "source": [
    "##### Database"
   ]
  },
  {
   "cell_type": "code",
   "execution_count": null,
   "metadata": {},
   "outputs": [],
   "source": [
    "# read dataframe\n",
    "\n",
    "data = pd.read_csv(data.csv)"
   ]
  },
  {
   "cell_type": "code",
   "execution_count": null,
   "metadata": {},
   "outputs": [],
   "source": [
    "# defining features (or independent variables)\n",
    "\n",
    "data = pd.DataFrame(data)\n",
    "\n",
    "# defining target (or dependent variable)\n",
    "\n",
    "data['target'] = y"
   ]
  },
  {
   "cell_type": "markdown",
   "metadata": {},
   "source": [
    "##### Exploratory analyses "
   ]
  },
  {
   "cell_type": "code",
   "execution_count": null,
   "metadata": {},
   "outputs": [],
   "source": [
    "# exploratory analyses \n",
    "\n",
    "data.head(n = 5)"
   ]
  },
  {
   "cell_type": "code",
   "execution_count": null,
   "metadata": {},
   "outputs": [],
   "source": [
    "# calculate the mean of the taget\n",
    "\n",
    "value_mean_target = data['target'].mean()\n",
    "value_mean_target"
   ]
  },
  {
   "cell_type": "code",
   "execution_count": null,
   "metadata": {},
   "outputs": [],
   "source": [
    "# calculating the SSE\n",
    "# SSE is a distinction between the predicted value and the observed value.\n",
    "\n",
    "\n",
    "SSE = pd.Series(value_mean_target - data['target'])**2 \n",
    "SSE2 = np.sum(SSE)\n",
    "print ('Soma dos Quadrados dos Erros: %01.f' % SSE2)"
   ]
  },
  {
   "cell_type": "code",
   "execution_count": null,
   "metadata": {},
   "outputs": [],
   "source": [
    "# histogram\n",
    "\n",
    "hist_SSE = SSE.plot('hist')"
   ]
  },
  {
   "cell_type": "code",
   "execution_count": null,
   "metadata": {},
   "outputs": [],
   "source": [
    "# standard deviation\n",
    "# compreendendo o relacionamento dos dados\n",
    "# análise exploratoria\n",
    "\n",
    "np.std(data['variable1'])"
   ]
  },
  {
   "cell_type": "code",
   "execution_count": null,
   "metadata": {
    "collapsed": true
   },
   "outputs": [],
   "source": [
    "# correlation\n",
    "\n",
    "pearsonr(data['variable1'], data['variable2'])[0]"
   ]
  },
  {
   "cell_type": "code",
   "execution_count": null,
   "metadata": {},
   "outputs": [],
   "source": [
    "# range of the variables\n",
    "\n",
    "x = [data['variable1'].min(),data['variable1'].max()]\n",
    "y = [data['target'].min(),data['target'].max()]"
   ]
  },
  {
   "cell_type": "code",
   "execution_count": null,
   "metadata": {},
   "outputs": [],
   "source": [
    "# plot x and y with the mean \n",
    "\n",
    "plot_values = data.plot(kind = 'scatter', x = 'variable1', y = 'target', xlim = x, ylim = y)\n",
    "y_mean = plot_values.plot(x, [data['target'].mean(),data['target'].mean()], '--', color = 'red', linewidth = 1)\n",
    "x_mean = scatterplot_values.plot([data['variable1'].mean(), data['variable1'].mean()], y, '--', color = 'red', linewidth = 1)"
   ]
  },
  {
   "cell_type": "markdown",
   "metadata": {},
   "source": [
    "##### Regression"
   ]
  },
  {
   "cell_type": "code",
   "execution_count": null,
   "metadata": {},
   "outputs": [],
   "source": [
    "# StatsModels\n",
    "# generating X and Y\n",
    "\n",
    "Y = data['target']\n",
    "X = data['variable1']"
   ]
  },
  {
   "cell_type": "code",
   "execution_count": null,
   "metadata": {},
   "outputs": [],
   "source": [
    "# add constant values into coeficients' X\n",
    "\n",
    "X = sm.add_constant(X)"
   ]
  },
  {
   "cell_type": "code",
   "execution_count": null,
   "metadata": {},
   "outputs": [],
   "source": [
    "# analysis descriptives\n",
    "\n",
    "X.head(n=5)"
   ]
  },
  {
   "cell_type": "code",
   "execution_count": null,
   "metadata": {},
   "outputs": [],
   "source": [
    "# model\n",
    "# more statiscally\n",
    "\n",
    "model1 = smf.ols(formula = 'target ~ variable1', data = data)\n",
    "model2 = model1.fit() # adjusted"
   ]
  },
  {
   "cell_type": "code",
   "execution_count": null,
   "metadata": {},
   "outputs": [],
   "source": [
    "# OR ...\n",
    "# objective more produtive in machine learning\n",
    "\n",
    "model1 = sm.OLS(Y, X)\n",
    "model2 = model1.fit()\n",
    "model2.summary()"
   ]
  }
 ],
 "metadata": {
  "kernelspec": {
   "display_name": "Python 3",
   "language": "python",
   "name": "python3"
  },
  "language_info": {
   "codemirror_mode": {
    "name": "ipython",
    "version": 3
   },
   "file_extension": ".py",
   "mimetype": "text/x-python",
   "name": "python",
   "nbconvert_exporter": "python",
   "pygments_lexer": "ipython3",
   "version": "3.7.1"
  }
 },
 "nbformat": 4,
 "nbformat_minor": 2
}
