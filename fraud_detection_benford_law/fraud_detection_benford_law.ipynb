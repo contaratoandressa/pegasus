{
 "cells": [
  {
   "cell_type": "markdown",
   "metadata": {},
   "source": [
    "# Benford law and fraud analysis\n"
   ]
  },
  {
   "cell_type": "code",
   "execution_count": 1,
   "metadata": {},
   "outputs": [],
   "source": [
    "# packages\n",
    "import pandas as pd\n",
    "import numpy as np\n",
    "import os\n",
    "import matplotlib.pyplot as plt\n",
    "import math\n",
    "import seaborn as sns\n",
    "%matplotlib inline"
   ]
  },
  {
   "cell_type": "code",
   "execution_count": 2,
   "metadata": {},
   "outputs": [],
   "source": [
    "# dataset\n",
    "data = pd.read_csv(\"/home/andressa/Desktop/Pastas/Blogs/archive/creditcard.csv\")"
   ]
  },
  {
   "cell_type": "markdown",
   "metadata": {},
   "source": [
    "### Descriptive Analysis"
   ]
  },
  {
   "cell_type": "code",
   "execution_count": null,
   "metadata": {},
   "outputs": [],
   "source": [
    "# shape of the dataset\n",
    "data.shape"
   ]
  },
  {
   "cell_type": "code",
   "execution_count": null,
   "metadata": {},
   "outputs": [],
   "source": [
    "# columns names\n",
    "data.columns"
   ]
  },
  {
   "cell_type": "code",
   "execution_count": null,
   "metadata": {},
   "outputs": [],
   "source": [
    "# head of the dataset\n",
    "data.head()"
   ]
  },
  {
   "cell_type": "code",
   "execution_count": null,
   "metadata": {},
   "outputs": [],
   "source": [
    "# summary\n",
    "data.iloc[:,0:data.shape[1]-1].describe()"
   ]
  },
  {
   "cell_type": "code",
   "execution_count": null,
   "metadata": {},
   "outputs": [],
   "source": [
    "# study Class variable\n",
    "np.unique(data.Class)"
   ]
  },
  {
   "cell_type": "code",
   "execution_count": null,
   "metadata": {},
   "outputs": [],
   "source": [
    "data.groupby(\"Class\").count().iloc[:,0]"
   ]
  },
  {
   "cell_type": "code",
   "execution_count": null,
   "metadata": {},
   "outputs": [],
   "source": [
    "print(\"Normal: \", round((data.groupby(\"Class\").count().iloc[0,0]/data.shape[0])*100,2))\n",
    "print(\"Fraud: \", round((data.groupby(\"Class\").count().iloc[1,0]/data.shape[0])*100,2))"
   ]
  },
  {
   "cell_type": "code",
   "execution_count": 30,
   "metadata": {},
   "outputs": [
    {
     "data": {
      "text/plain": [
       "<matplotlib.axes._subplots.AxesSubplot at 0x7f9e4e5aeb70>"
      ]
     },
     "execution_count": 30,
     "metadata": {},
     "output_type": "execute_result"
    },
    {
     "data": {
      "image/png": "[encoded data removed]",
      "text/plain": [
       "<Figure size 432x288 with 1 Axes>"
      ]
     },
     "metadata": {
      "needs_background": "light"
     },
     "output_type": "display_data"
    }
   ],
   "source": [
    "# plot\n",
    "a = pd.DataFrame(data.groupby(\"Class\").count().iloc[:,0])\n",
    "a.columns = [\"Class\"]\n",
    "a.plot.bar()"
   ]
  },
  {
   "cell_type": "code",
   "execution_count": null,
   "metadata": {},
   "outputs": [],
   "source": [
    "# split normal (Class = 0)  and fraud (Class = 1)\n",
    "\n",
    "normal = data[data['Class'] == 0]\n",
    "fraud = data[data['Class'] == 1]\n",
    "\n",
    "a = plt.figure(num=None, figsize=(10, 6))\n",
    "\n",
    "a1 = a.add_subplot(121)\n",
    "a1.hist(normal.Amount)\n",
    "a1.title.set_text('Normal')\n",
    "\n",
    "a2 = a.add_subplot(122)\n",
    "a2.hist(fraud.Amount)\n",
    "a2.title.set_text('Fraud')\n",
    "\n",
    "plt.tight_layout()\n",
    "plt.show()"
   ]
  },
  {
   "cell_type": "markdown",
   "metadata": {},
   "source": [
    "### Complex analysis"
   ]
  },
  {
   "cell_type": "code",
   "execution_count": null,
   "metadata": {},
   "outputs": [],
   "source": [
    "# filtering values greater than 0\n",
    "aux = data.Amount[data.Amount > 0]\n",
    "aux"
   ]
  },
  {
   "cell_type": "code",
   "execution_count": null,
   "metadata": {},
   "outputs": [],
   "source": [
    "# taking the first digit\n",
    "aux = aux.apply(lambda elem: elem // 10**(len(str(math.floor(elem))) - 1))\n",
    "aux"
   ]
  },
  {
   "cell_type": "code",
   "execution_count": null,
   "metadata": {},
   "outputs": [],
   "source": [
    "# calculate the frequency\n",
    "qt_numbers = aux.value_counts()\n",
    "qt_numbers"
   ]
  },
  {
   "cell_type": "code",
   "execution_count": null,
   "metadata": {},
   "outputs": [],
   "source": [
    "percent = qt_numbers.apply(lambda elem: (elem/aux.count())*100)\n",
    "percent"
   ]
  },
  {
   "cell_type": "code",
   "execution_count": null,
   "metadata": {},
   "outputs": [],
   "source": [
    "# transforming exponential value\n",
    "result = pd.Series()\n",
    "for i in range(1,10):\n",
    "     result.at[i] = round(math.log(1 + 1/i,10) * 100,2)\n",
    "result"
   ]
  },
  {
   "cell_type": "code",
   "execution_count": null,
   "metadata": {},
   "outputs": [],
   "source": [
    "# plot\n",
    "\n",
    "data2 = pd.DataFrame(columns=['Fit', 'Origin'])\n",
    "data2['Fit'] = result\n",
    "data2['Origin'] = percent\n",
    "        \n",
    "print('Expected frequencies :\\n', result.sort_index(), '\\n')\n",
    "print('Real frequencies:\\n',percent.sort_index())\n",
    "\n",
    "data2.plot.bar(figsize = (10,6))"
   ]
  },
  {
   "cell_type": "code",
   "execution_count": null,
   "metadata": {},
   "outputs": [],
   "source": [
    "# deep analysis\n",
    "\n",
    "aux2 = fraud.Amount\n",
    "\n",
    "aux2 = aux2[aux2 > 0].apply(lambda elem: elem // 10**(len(str(math.floor(elem))) - 1)).value_counts()\n",
    "aux2"
   ]
  },
  {
   "cell_type": "code",
   "execution_count": null,
   "metadata": {},
   "outputs": [],
   "source": [
    "fraud.Amount.describe()"
   ]
  },
  {
   "cell_type": "code",
   "execution_count": null,
   "metadata": {},
   "outputs": [],
   "source": []
  }
 ],
 "metadata": {
  "kernelspec": {
   "display_name": "Python 3",
   "language": "python",
   "name": "python3"
  },
  "language_info": {
   "codemirror_mode": {
    "name": "ipython",
    "version": 3
   },
   "file_extension": ".py",
   "mimetype": "text/x-python",
   "name": "python",
   "nbconvert_exporter": "python",
   "pygments_lexer": "ipython3",
   "version": "3.7.3"
  }
 },
 "nbformat": 4,
 "nbformat_minor": 4
}
