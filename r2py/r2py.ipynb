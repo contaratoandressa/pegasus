{
 "cells": [
  {
   "cell_type": "markdown",
   "metadata": {},
   "source": [
    "# R2Py"
   ]
  },
  {
   "cell_type": "markdown",
   "metadata": {},
   "source": [
    "Motivation: \n",
    "This project aims to use R within the Python interface."
   ]
  },
  {
   "cell_type": "markdown",
   "metadata": {},
   "source": [
    "References:\n",
    "- https://rpy2.github.io/doc/latest/html/introduction.html#r-vectors\n",
    "- https://www.slideshare.net/bytemining/rpy2"
   ]
  },
  {
   "cell_type": "code",
   "execution_count": 3,
   "metadata": {
    "collapsed": true,
    "jupyter": {
     "outputs_hidden": true
    }
   },
   "outputs": [
    {
     "name": "stdout",
     "output_type": "stream",
     "text": [
      "Collecting rpy2\n",
      "  Downloading rpy2-3.3.5.tar.gz (174 kB)\n",
      "\u001b[K     |████████████████████████████████| 174 kB 187 kB/s eta 0:00:01\n",
      "\u001b[?25hRequirement already satisfied: pytest in /home/andressa/anaconda3/lib/python3.7/site-packages (from rpy2) (5.4.1)\n",
      "Requirement already satisfied: jinja2 in /home/andressa/anaconda3/lib/python3.7/site-packages (from rpy2) (2.11.1)\n",
      "Requirement already satisfied: pytz in /home/andressa/anaconda3/lib/python3.7/site-packages (from rpy2) (2019.3)\n",
      "Collecting tzlocal\n",
      "  Downloading tzlocal-2.1-py2.py3-none-any.whl (16 kB)\n",
      "Requirement already satisfied: cffi>=1.10.0 in /home/andressa/anaconda3/lib/python3.7/site-packages (from rpy2) (1.14.0)\n",
      "Requirement already satisfied: py>=1.5.0 in /home/andressa/anaconda3/lib/python3.7/site-packages (from pytest->rpy2) (1.8.1)\n",
      "Requirement already satisfied: packaging in /home/andressa/anaconda3/lib/python3.7/site-packages (from pytest->rpy2) (20.3)\n",
      "Requirement already satisfied: attrs>=17.4.0 in /home/andressa/anaconda3/lib/python3.7/site-packages (from pytest->rpy2) (19.3.0)\n",
      "Requirement already satisfied: more-itertools>=4.0.0 in /home/andressa/anaconda3/lib/python3.7/site-packages (from pytest->rpy2) (8.2.0)\n",
      "Requirement already satisfied: pluggy<1.0,>=0.12 in /home/andressa/anaconda3/lib/python3.7/site-packages (from pytest->rpy2) (0.13.1)\n",
      "Requirement already satisfied: wcwidth in /home/andressa/anaconda3/lib/python3.7/site-packages (from pytest->rpy2) (0.1.8)\n",
      "Requirement already satisfied: importlib-metadata>=0.12 in /home/andressa/anaconda3/lib/python3.7/site-packages (from pytest->rpy2) (1.5.0)\n",
      "Requirement already satisfied: MarkupSafe>=0.23 in /home/andressa/anaconda3/lib/python3.7/site-packages (from jinja2->rpy2) (1.1.1)\n",
      "Requirement already satisfied: pycparser in /home/andressa/anaconda3/lib/python3.7/site-packages (from cffi>=1.10.0->rpy2) (2.20)\n",
      "Requirement already satisfied: six in /home/andressa/anaconda3/lib/python3.7/site-packages (from packaging->pytest->rpy2) (1.14.0)\n",
      "Requirement already satisfied: pyparsing>=2.0.2 in /home/andressa/anaconda3/lib/python3.7/site-packages (from packaging->pytest->rpy2) (2.4.6)\n",
      "Requirement already satisfied: zipp>=0.5 in /home/andressa/anaconda3/lib/python3.7/site-packages (from importlib-metadata>=0.12->pytest->rpy2) (2.2.0)\n",
      "Building wheels for collected packages: rpy2\n",
      "  Building wheel for rpy2 (setup.py) ... \u001b[?25ldone\n",
      "\u001b[?25h  Created wheel for rpy2: filename=rpy2-3.3.5-cp37-cp37m-linux_x86_64.whl size=299584 sha256=66b47975dd3c639e13be71925c924c09bb568b71ae54170e29d447a6785d506d\n",
      "  Stored in directory: /home/andressa/.cache/pip/wheels/0a/94/f9/b8cbaa9f9204b7646d1cf830b19683bb0b36ecff704525840a\n",
      "Successfully built rpy2\n",
      "Installing collected packages: tzlocal, rpy2\n",
      "Successfully installed rpy2-3.3.5 tzlocal-2.1\n"
     ]
    }
   ],
   "source": [
    "# install packages\n",
    "!pip install rpy2"
   ]
  },
  {
   "cell_type": "code",
   "execution_count": 4,
   "metadata": {},
   "outputs": [
    {
     "name": "stdout",
     "output_type": "stream",
     "text": [
      "3.3.5\n"
     ]
    }
   ],
   "source": [
    "# package and version\n",
    "import rpy2\n",
    "print(rpy2.__version__)"
   ]
  },
  {
   "cell_type": "code",
   "execution_count": 6,
   "metadata": {
    "collapsed": true,
    "jupyter": {
     "outputs_hidden": true
    }
   },
   "outputs": [
    {
     "name": "stdout",
     "output_type": "stream",
     "text": [
      "\u001b[1mrpy2 version:\u001b[0m\n",
      "3.3.5\n",
      "\u001b[1mPython version:\u001b[0m\n",
      "3.7.3 (default, Mar 27 2019, 22:11:17) \n",
      "[GCC 7.3.0]\n",
      "\u001b[1mLooking for R's HOME:\u001b[0m\n",
      "    Environment variable R_HOME: None\n",
      "    Calling `R RHOME`: /usr/lib/R\n",
      "    Environment variable R_LIBS_USER: None\n",
      "\u001b[1mR's additions to LD_LIBRARY_PATH:\u001b[0m\n",
      "/usr/lib/R/lib:/usr/lib/x86_64-linux-gnu:/usr/lib/jvm/java-8-oracle/lib/server\n",
      "\u001b[1mR version:\u001b[0m\n",
      "    In the PATH: R version 4.0.2 (2020-06-22) -- \"Taking Off Again\"\n",
      "    Loading R library from rpy2: OK\n",
      "\u001b[1mAdditional directories to load R packages from:\u001b[0m\n",
      "None\n",
      "\u001b[1mC extension compilation:\u001b[0m\n",
      "  include:\n",
      "  ['/usr/share/R/include']\n",
      "  libraries:\n",
      "  ['R', 'pcre2-8', 'lzma', 'bz2', 'z', 'rt', 'dl', 'm', 'icuuc', 'icui18n']\n",
      "  library_dirs:\n",
      "  ['/usr/lib/R/lib']\n",
      "  extra_compile_args:\n",
      "  []\n",
      "  extra_link_args:\n",
      "  ['-Wl,--export-dynamic', '-fopenmp', '-Wl,-Bsymbolic-functions', '-Wl,-z,relro']\n"
     ]
    }
   ],
   "source": [
    "# to understand the situation about your code\n",
    "import rpy2.situation\n",
    "for row in rpy2.situation.iter_info():\n",
    "    print(row)"
   ]
  },
  {
   "cell_type": "code",
   "execution_count": 8,
   "metadata": {},
   "outputs": [],
   "source": [
    "# Importing the top-level sub-package to adjust the R\n",
    "import rpy2.robjects as robjects"
   ]
  },
  {
   "cell_type": "code",
   "execution_count": 40,
   "metadata": {},
   "outputs": [],
   "source": [
    "# import r packeges inside python ide\n",
    "from rpy2.robjects.packages import importr\n",
    "\n",
    "r_base = importr('base') # the base package into R\n",
    "r_utils = importr('utils') # R utils for help others packages, for example, packages plot graphs\n",
    "r_dplyr = importr('dplyr') # to construct queries of the dataset"
   ]
  },
  {
   "cell_type": "code",
   "execution_count": 14,
   "metadata": {},
   "outputs": [
    {
     "data": {
      "text/plain": [
       "6"
      ]
     },
     "execution_count": 14,
     "metadata": {},
     "output_type": "execute_result"
    }
   ],
   "source": [
    "# test\n",
    "a = 2\n",
    "b = 4\n",
    "2^4"
   ]
  },
  {
   "cell_type": "code",
   "execution_count": 29,
   "metadata": {},
   "outputs": [
    {
     "data": {
      "text/html": [
       "\n",
       "        <span>R/rpy2 DataFrame (144 x 2)</span>\n",
       "        <table>\n",
       "          <thead>\n",
       "            <tr>\n",
       "              \n",
       "              <th>Mês</th>\n",
       "              \n",
       "              <th>Milhares.de.passageiros</th>\n",
       "              \n",
       "            </tr>\n",
       "          </thead>\n",
       "          <tbody>\n",
       "          \n",
       "          <tr>\n",
       "            \n",
       "            <td>\n",
       "              ...\n",
       "            </td>\n",
       "            \n",
       "            <td>\n",
       "              ...\n",
       "            </td>\n",
       "            \n",
       "          </tr>\n",
       "          \n",
       "          </tbody>\n",
       "        </table>\n",
       "    "
      ],
      "text/plain": [
       "R object with classes: ('data.frame',) mapped to:\n",
       "[StrSexpVector, IntSexpVector]\n",
       "  Mês: <class 'rpy2.rinterface_lib.sexp.StrSexpVector'>\n",
       "  <rpy2.rinterface_lib.sexp.StrSexpVector object at 0x7fb06130f348> [RTYPES.STRSXP]\n",
       "  Milhares.de.passageiros: <class 'rpy2.rinterface.IntSexpVector'>\n",
       "  <rpy2.rinterface.IntSexpVector object at 0x7fb06130f408> [RTYPES.INTSXP]"
      ]
     },
     "execution_count": 29,
     "metadata": {},
     "output_type": "execute_result"
    }
   ],
   "source": [
    "# import dataset\n",
    "robjects.r('data = read.csv(\".../airline_passengers.csv\")')"
   ]
  },
  {
   "cell_type": "code",
   "execution_count": 25,
   "metadata": {},
   "outputs": [
    {
     "name": "stdout",
     "output_type": "stream",
     "text": [
      "'data.frame':\t144 obs. of  2 variables:\n",
      " $ Mês                    : chr  \"1949-01\" \"1949-02\" \"1949-03\" \"1949-04\" ...\n",
      " $ Milhares.de.passageiros: int  112 118 132 129 121 135 148 148 136 119 ...\n"
     ]
    },
    {
     "data": {
      "text/plain": [
       "<rpy2.rinterface_lib.sexp.NULLType object at 0x7fb07422eac8> [RTYPES.NILSXP]"
      ]
     },
     "execution_count": 25,
     "metadata": {},
     "output_type": "execute_result"
    }
   ],
   "source": [
    "# descriptive analysis\n",
    "robjects.r('str(data)')"
   ]
  },
  {
   "cell_type": "code",
   "execution_count": 33,
   "metadata": {},
   "outputs": [
    {
     "data": {
      "text/html": [
       "\n",
       "        <span>StrMatrix with 12 elements.</span>\n",
       "        <table>\n",
       "        <tbody>\n",
       "          <tr>\n",
       "          \n",
       "            <td>\n",
       "            'Length:1...\n",
       "            </td>\n",
       "          \n",
       "            <td>\n",
       "            'Class :c...\n",
       "            </td>\n",
       "          \n",
       "            <td>\n",
       "            'Mode  :c...\n",
       "            </td>\n",
       "          \n",
       "            <td>\n",
       "            ...\n",
       "            </td>\n",
       "          \n",
       "            <td>\n",
       "            'Mean   :...\n",
       "            </td>\n",
       "          \n",
       "            <td>\n",
       "            '3rd Qu.:...\n",
       "            </td>\n",
       "          \n",
       "            <td>\n",
       "            'Max.   :...\n",
       "            </td>\n",
       "          \n",
       "          </tr>\n",
       "        </tbody>\n",
       "        </table>\n",
       "        "
      ],
      "text/plain": [
       "R object with classes: ('table',) mapped to:\n",
       "['Length:1..., 'Class :c..., 'Mode  :c..., NA_character_, ..., 'Median :..., 'Mean   :..., '3rd Qu.:..., 'Max.   :...]"
      ]
     },
     "execution_count": 33,
     "metadata": {},
     "output_type": "execute_result"
    }
   ],
   "source": [
    "robjects.r('summary(data)')"
   ]
  },
  {
   "cell_type": "code",
   "execution_count": 34,
   "metadata": {},
   "outputs": [
    {
     "data": {
      "text/plain": [
       "<rpy2.rinterface_lib.sexp.NULLType object at 0x7fb07422eac8> [RTYPES.NILSXP]"
      ]
     },
     "execution_count": 34,
     "metadata": {},
     "output_type": "execute_result"
    }
   ],
   "source": [
    "robjects.r('View(data)')"
   ]
  },
  {
   "cell_type": "code",
   "execution_count": 30,
   "metadata": {},
   "outputs": [
    {
     "data": {
      "text/html": [
       "\n",
       "        <span>IntVector with 2 elements.</span>\n",
       "        <table>\n",
       "        <tbody>\n",
       "          <tr>\n",
       "          \n",
       "            <td>\n",
       "            144\n",
       "            </td>\n",
       "          \n",
       "            <td>\n",
       "            2\n",
       "            </td>\n",
       "          \n",
       "          </tr>\n",
       "        </tbody>\n",
       "        </table>\n",
       "        "
      ],
      "text/plain": [
       "R object with classes: ('RTYPES.INTSXP',) mapped to:\n",
       "[144, 2]"
      ]
     },
     "execution_count": 30,
     "metadata": {},
     "output_type": "execute_result"
    }
   ],
   "source": [
    "robjects.r('dim(data)')"
   ]
  },
  {
   "cell_type": "code",
   "execution_count": 31,
   "metadata": {},
   "outputs": [
    {
     "data": {
      "text/html": [
       "\n",
       "        <span>StrVector with 2 elements.</span>\n",
       "        <table>\n",
       "        <tbody>\n",
       "          <tr>\n",
       "          \n",
       "            <td>\n",
       "            'Mês'\n",
       "            </td>\n",
       "          \n",
       "            <td>\n",
       "            'Milhares.de.passageiros'\n",
       "            </td>\n",
       "          \n",
       "          </tr>\n",
       "        </tbody>\n",
       "        </table>\n",
       "        "
      ],
      "text/plain": [
       "R object with classes: ('character',) mapped to:\n",
       "['Mês', 'Milhares.de.passageiros']"
      ]
     },
     "execution_count": 31,
     "metadata": {},
     "output_type": "execute_result"
    }
   ],
   "source": [
    "robjects.r('names(data)')"
   ]
  },
  {
   "cell_type": "code",
   "execution_count": 44,
   "metadata": {},
   "outputs": [
    {
     "data": {
      "text/plain": [
       "<rpy2.rinterface_lib.sexp.NULLType object at 0x7fb07422eac8> [RTYPES.NILSXP]"
      ]
     },
     "execution_count": 44,
     "metadata": {},
     "output_type": "execute_result"
    }
   ],
   "source": [
    "robjects.r('plot(data[,2])')"
   ]
  },
  {
   "cell_type": "code",
   "execution_count": 38,
   "metadata": {},
   "outputs": [
    {
     "data": {
      "text/html": [
       "\n",
       "        <span>R/rpy2 DataFrame (1 x 2)</span>\n",
       "        <table>\n",
       "          <thead>\n",
       "            <tr>\n",
       "              \n",
       "              <th>Mês</th>\n",
       "              \n",
       "              <th>Milhares.de.passageiros</th>\n",
       "              \n",
       "            </tr>\n",
       "          </thead>\n",
       "          <tbody>\n",
       "          \n",
       "          <tr>\n",
       "            \n",
       "            <td>\n",
       "              ...\n",
       "            </td>\n",
       "            \n",
       "            <td>\n",
       "              ...\n",
       "            </td>\n",
       "            \n",
       "          </tr>\n",
       "          \n",
       "          </tbody>\n",
       "        </table>\n",
       "    "
      ],
      "text/plain": [
       "R object with classes: ('data.frame',) mapped to:\n",
       "[StrSexpVector, IntSexpVector]\n",
       "  Mês: <class 'rpy2.rinterface_lib.sexp.StrSexpVector'>\n",
       "  <rpy2.rinterface_lib.sexp.StrSexpVector object at 0x7fb06130fc08> [RTYPES.STRSXP]\n",
       "  Milhares.de.passageiros: <class 'rpy2.rinterface.IntSexpVector'>\n",
       "  <rpy2.rinterface.IntSexpVector object at 0x7fb06130fac8> [RTYPES.INTSXP]"
      ]
     },
     "execution_count": 38,
     "metadata": {},
     "output_type": "execute_result"
    }
   ],
   "source": [
    "robjects.r('data[1,]')"
   ]
  },
  {
   "cell_type": "code",
   "execution_count": 39,
   "metadata": {},
   "outputs": [
    {
     "data": {
      "text/html": [
       "\n",
       "        <span>FloatVector with 1 elements.</span>\n",
       "        <table>\n",
       "        <tbody>\n",
       "          <tr>\n",
       "          \n",
       "            <td>\n",
       "            280.298611\n",
       "            </td>\n",
       "          \n",
       "          </tr>\n",
       "        </tbody>\n",
       "        </table>\n",
       "        "
      ],
      "text/plain": [
       "R object with classes: ('numeric',) mapped to:\n",
       "[280.298611]"
      ]
     },
     "execution_count": 39,
     "metadata": {},
     "output_type": "execute_result"
    }
   ],
   "source": [
    "robjects.r('mean(data[,2])')"
   ]
  },
  {
   "cell_type": "code",
   "execution_count": 43,
   "metadata": {},
   "outputs": [
    {
     "data": {
      "text/html": [
       "\n",
       "        <span>R/rpy2 DataFrame (7 x 2)</span>\n",
       "        <table>\n",
       "          <thead>\n",
       "            <tr>\n",
       "              \n",
       "              <th>Mês</th>\n",
       "              \n",
       "              <th>Milhares.de.passageiros</th>\n",
       "              \n",
       "            </tr>\n",
       "          </thead>\n",
       "          <tbody>\n",
       "          \n",
       "          <tr>\n",
       "            \n",
       "            <td>\n",
       "              ...\n",
       "            </td>\n",
       "            \n",
       "            <td>\n",
       "              ...\n",
       "            </td>\n",
       "            \n",
       "          </tr>\n",
       "          \n",
       "          </tbody>\n",
       "        </table>\n",
       "    "
      ],
      "text/plain": [
       "R object with classes: ('data.frame',) mapped to:\n",
       "[StrSexpVector, IntSexpVector]\n",
       "  Mês: <class 'rpy2.rinterface_lib.sexp.StrSexpVector'>\n",
       "  <rpy2.rinterface_lib.sexp.StrSexpVector object at 0x7fb061f74ac8> [RTYPES.STRSXP]\n",
       "  Milhares.de.passageiros: <class 'rpy2.rinterface.IntSexpVector'>\n",
       "  <rpy2.rinterface.IntSexpVector object at 0x7fb061f74208> [RTYPES.INTSXP]"
      ]
     },
     "execution_count": 43,
     "metadata": {},
     "output_type": "execute_result"
    }
   ],
   "source": [
    "robjects.r('filter(data, Milhares.de.passageiros > 500)')"
   ]
  }
 ],
 "metadata": {
  "kernelspec": {
   "display_name": "Python 3",
   "language": "python",
   "name": "python3"
  },
  "language_info": {
   "codemirror_mode": {
    "name": "ipython",
    "version": 3
   },
   "file_extension": ".py",
   "mimetype": "text/x-python",
   "name": "python",
   "nbconvert_exporter": "python",
   "pygments_lexer": "ipython3",
   "version": "3.7.3"
  }
 },
 "nbformat": 4,
 "nbformat_minor": 4
}
