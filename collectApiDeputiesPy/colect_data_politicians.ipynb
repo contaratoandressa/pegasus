{
 "cells": [
  {
   "cell_type": "code",
   "execution_count": null,
   "metadata": {},
   "outputs": [],
   "source": [
    "# packages\n",
    "import requests, json, pandas as pd"
   ]
  },
  {
   "cell_type": "code",
   "execution_count": null,
   "metadata": {},
   "outputs": [],
   "source": [
    "# url\n",
    "api_url = \"https://dadosabertos.camara.leg.br/api/v2\""
   ]
  },
  {
   "cell_type": "code",
   "execution_count": null,
   "metadata": {},
   "outputs": [],
   "source": [
    "# function return data \n",
    "def request_names_politicians(api_url):\n",
    "\n",
    "    myResponse = requests.get(api_url+\"/deputados\", verify=True)\n",
    "    \n",
    "    if(myResponse.ok):\n",
    "        \n",
    "        result = json.loads(myResponse.content)\n",
    "        data = pd.DataFrame.from_dict(result['data'])\n",
    "        return(data)\n",
    "            \n",
    "    else:\n",
    "\n",
    "        myResponse.raise_for_status()"
   ]
  },
  {
   "cell_type": "code",
   "execution_count": null,
   "metadata": {},
   "outputs": [],
   "source": [
    "# poo\n",
    "if __name__ == '__main__':\n",
    "    data = request_names_politicians(api_url)\n",
    "    data.to_csv(dir + 'nomes_deputados_camara_br.csv') # dir = directory"
   ]
  }
 ],
 "metadata": {
  "kernelspec": {
   "display_name": "Python 3",
   "language": "python",
   "name": "python3"
  },
  "language_info": {
   "codemirror_mode": {
    "name": "ipython",
    "version": 3
   },
   "file_extension": ".py",
   "mimetype": "text/x-python",
   "name": "python",
   "nbconvert_exporter": "python",
   "pygments_lexer": "ipython3",
   "version": "3.7.1"
  }
 },
 "nbformat": 4,
 "nbformat_minor": 2
}
