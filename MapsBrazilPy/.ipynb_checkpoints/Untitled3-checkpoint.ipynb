{
 "cells": [
  {
   "cell_type": "code",
   "execution_count": 3,
   "metadata": {},
   "outputs": [],
   "source": [
    "import pandas as pd, numpy as np, os, unidecode, matplotlib.pyplot as plt, re\n",
    "from scipy import stats"
   ]
  },
  {
   "cell_type": "code",
   "execution_count": 4,
   "metadata": {},
   "outputs": [],
   "source": [
    "def pad_base(path, vector):\n",
    "    \n",
    "    \"\"\"funcao que lê a base de dados e retorna um diagnostico da base\"\"\"\n",
    "    \n",
    "    dados = pd.DataFrame(pd.read_excel(path))\n",
    "    dados = dados.iloc[dados.iloc[:,0].dropna().index,:]\n",
    "    \n",
    "    dados = dados.iloc[:,vector]\n",
    "    \n",
    "    for i in range(0,dados.iloc[:,0].shape[0]):\n",
    "        dados.iloc[i,0] = unidecode.unidecode(dados.iloc[i,0]).upper()\n",
    "    \n",
    "    print('Dimensao da base: '+str(dados.shape))\n",
    "    print('Quantidade de jogadores: '+str(len(np.unique(dados.iloc[:,0]))))\n",
    "    print('Periodo de Tempo: Mínimo'+str(np.min(dados.iloc[:,1].dropna()))+'Periodo de Tempo: Máximo'+str(np.max(dados.iloc[:,1].dropna())))\n",
    "    print('Nome dos jogadores: '+str(np.unique(dados.iloc[:,0])))\n",
    "    \n",
    "    return(dados)"
   ]
  },
  {
   "cell_type": "code",
   "execution_count": 5,
   "metadata": {},
   "outputs": [],
   "source": [
    "def desc_base(dados, type ,vector, name):\n",
    "    \n",
    "    \"\"\"funcao que lê a base de dados e retorna a analise descritiva da base\"\"\"\n",
    "    \n",
    "    dados = dados.iloc[:,vector]\n",
    "    \n",
    "    aux = np.unique(dados.iloc[:,type].dropna()) # analises por jogadores\n",
    "\n",
    "    for i in range(0,len(aux)):\n",
    "        print('Data: ' + str(aux[i]))\n",
    "        print(dados[dados.iloc[:,type] == aux[i]].describe())"
   ]
  },
  {
   "cell_type": "code",
   "execution_count": 6,
   "metadata": {},
   "outputs": [],
   "source": [
    "def test_nomal(dados, type ,vector, start, end):\n",
    "    \n",
    "    \"\"\"funcao que lê a base de dados e retorna o p-valor do teste de shapiro\n",
    "    \n",
    "    H0: os dados sao normais\n",
    "    H1: os dados nao seguem uma distribuicao normal\"\"\"\n",
    "    \n",
    "    p_valor = []\n",
    "    \n",
    "    dados = dados.iloc[:,vector]\n",
    "    \n",
    "    if type == 1:\n",
    "        \n",
    "        aux = np.unique(dados.iloc[:,type].dropna()) # analises por jogadores\n",
    "        \n",
    "        for i in range(0,len(aux)):\n",
    "            p_valor = p_valor.append(stats.shapiro(dados.iloc[:,2].dropna())[1])\n",
    "\n",
    "    else:\n",
    "        \n",
    "        for i in range(start, end):\n",
    "            p_valor = p_valor.append(stats.shapiro(dados.iloc[:,i].dropna())[1])"
   ]
  },
  {
   "cell_type": "code",
   "execution_count": null,
   "metadata": {},
   "outputs": [],
   "source": []
  }
 ],
 "metadata": {
  "kernelspec": {
   "display_name": "Python 3",
   "language": "python",
   "name": "python3"
  },
  "language_info": {
   "codemirror_mode": {
    "name": "ipython",
    "version": 3
   },
   "file_extension": ".py",
   "mimetype": "text/x-python",
   "name": "python",
   "nbconvert_exporter": "python",
   "pygments_lexer": "ipython3",
   "version": "3.7.1"
  }
 },
 "nbformat": 4,
 "nbformat_minor": 2
}
