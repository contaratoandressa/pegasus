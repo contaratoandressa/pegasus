{
 "cells": [
  {
   "cell_type": "markdown",
   "metadata": {},
   "source": [
    "# <span style=\"color:blue\"> MBA em Ciência de Dados</span>\n",
    "# <span style=\"color:blue\">Programação para Ciência de Dados</span>\n",
    "\n",
    "## <span style=\"color:blue\">Avaliação Final</span>\n",
    "**Material Produzido por Luis Gustavo Nonato**<br>\n",
    "**Cemeai - ICMC/USP São Carlos**"
   ]
  },
  {
   "cell_type": "markdown",
   "metadata": {},
   "source": [
    "A avaliação vale 10 pontos. As questões de 1 a 4, caso respondidas da forma correta, totalizam 10 pontos. A última questão é um bônus que, se respondida corretamente, pode ajudar na nota final, ou seja, caso tenha respondido incorretamente uma das questões de 1 a 4, mas tenha acertado a questão bônus, ainda poderá atingir 10 pontos."
   ]
  },
  {
   "cell_type": "markdown",
   "metadata": {},
   "source": [
    "<font color='red'>**ATENÇÃO:** Quando terminar de exame, você deve fazer um \"upload\" do notebook no _moodle_</font>."
   ]
  },
  {
   "cell_type": "markdown",
   "metadata": {},
   "source": [
    "Para responder as questões abaixo será necessário fazer uso do arquivo <font style=\"font-family: monaco\">covid.csv\"</font> disponível para download no sistema _Moodle_. As colunas do conjunto de dados fornece informações sobre:\n",
    "- **'Province/State'**: estado ou província onde os casos de COVID19 foram registrados\n",
    "- **'Country/Region'**: país onde os casos de COVID19 foram registrados\n",
    "- **'Lat'** e **'Long'**: latitude e longitude de referência\n",
    "- **'Date'**: data dos registros\n",
    "- **'Value'**: quantidade de casos registrados"
   ]
  },
  {
   "cell_type": "code",
   "execution_count": 1,
   "metadata": {},
   "outputs": [],
   "source": [
    "import numpy as np # importando biblioteca numpy\n",
    "import pandas as pd # importando biblioteca pandas"
   ]
  },
  {
   "cell_type": "markdown",
   "metadata": {},
   "source": [
    "### Questão 1 (2 pontos)\n",
    "Considerando os dados contidos no arquivo <font style=\"font-family: monaco\">covid.csv\"</font>:\n"
   ]
  },
  {
   "cell_type": "markdown",
   "metadata": {},
   "source": [
    "#### a) (0.5 pontos)\n",
    "Carregue o arquivo \"covid.csv\" e armazena em um pandas DataFrame."
   ]
  },
  {
   "cell_type": "code",
   "execution_count": 2,
   "metadata": {},
   "outputs": [
    {
     "data": {
      "text/html": [
       "<div>\n",
       "<style scoped>\n",
       "    .dataframe tbody tr th:only-of-type {\n",
       "        vertical-align: middle;\n",
       "    }\n",
       "\n",
       "    .dataframe tbody tr th {\n",
       "        vertical-align: top;\n",
       "    }\n",
       "\n",
       "    .dataframe thead th {\n",
       "        text-align: right;\n",
       "    }\n",
       "</style>\n",
       "<table border=\"1\" class=\"dataframe\">\n",
       "  <thead>\n",
       "    <tr style=\"text-align: right;\">\n",
       "      <th></th>\n",
       "      <th>Province/State</th>\n",
       "      <th>Country/Region</th>\n",
       "      <th>Lat</th>\n",
       "      <th>Long</th>\n",
       "      <th>Date</th>\n",
       "      <th>Value</th>\n",
       "    </tr>\n",
       "  </thead>\n",
       "  <tbody>\n",
       "    <tr>\n",
       "      <th>0</th>\n",
       "      <td>#adm1+name</td>\n",
       "      <td>#country+name</td>\n",
       "      <td>#geo+lat</td>\n",
       "      <td>#geo+lon</td>\n",
       "      <td>#date</td>\n",
       "      <td>#affected+infected+value+num</td>\n",
       "    </tr>\n",
       "    <tr>\n",
       "      <th>1</th>\n",
       "      <td>NaN</td>\n",
       "      <td>afghanistan</td>\n",
       "      <td>33</td>\n",
       "      <td>65</td>\n",
       "      <td>2020-03-18</td>\n",
       "      <td>22</td>\n",
       "    </tr>\n",
       "    <tr>\n",
       "      <th>2</th>\n",
       "      <td>NaN</td>\n",
       "      <td>afghanistan</td>\n",
       "      <td>33</td>\n",
       "      <td>65</td>\n",
       "      <td>2020-03-17</td>\n",
       "      <td>22</td>\n",
       "    </tr>\n",
       "    <tr>\n",
       "      <th>3</th>\n",
       "      <td>NaN</td>\n",
       "      <td>afghanistan</td>\n",
       "      <td>33</td>\n",
       "      <td>65</td>\n",
       "      <td>2020-03-16</td>\n",
       "      <td>21</td>\n",
       "    </tr>\n",
       "    <tr>\n",
       "      <th>4</th>\n",
       "      <td>NaN</td>\n",
       "      <td>Afghanistan</td>\n",
       "      <td>33</td>\n",
       "      <td>65</td>\n",
       "      <td>2020-03-15</td>\n",
       "      <td>16</td>\n",
       "    </tr>\n",
       "  </tbody>\n",
       "</table>\n",
       "</div>"
      ],
      "text/plain": [
       "  Province/State Country/Region       Lat      Long        Date  \\\n",
       "0     #adm1+name  #country+name  #geo+lat  #geo+lon       #date   \n",
       "1            NaN    afghanistan        33        65  2020-03-18   \n",
       "2            NaN    afghanistan        33        65  2020-03-17   \n",
       "3            NaN    afghanistan        33        65  2020-03-16   \n",
       "4            NaN    Afghanistan        33        65  2020-03-15   \n",
       "\n",
       "                          Value  \n",
       "0  #affected+infected+value+num  \n",
       "1                            22  \n",
       "2                            22  \n",
       "3                            21  \n",
       "4                            16  "
      ]
     },
     "execution_count": 2,
     "metadata": {},
     "output_type": "execute_result"
    }
   ],
   "source": [
    "df = pd.read_csv('/home/andressa/Desktop/covid.csv') # importação da base de dados\n",
    "df.head() # mostra uma amostra da base de dados"
   ]
  },
  {
   "cell_type": "markdown",
   "metadata": {},
   "source": [
    "#### b) (0.5 pontos)\n",
    "Elimine a primeira linha do DataFrame, a qual contém a informação:\n",
    "```python\n",
    "#adm1+name,#country+name,#geo+lat,#geo+lon,#date,#affected+infected+value+num\n",
    "```"
   ]
  },
  {
   "cell_type": "code",
   "execution_count": 3,
   "metadata": {},
   "outputs": [
    {
     "data": {
      "text/html": [
       "<div>\n",
       "<style scoped>\n",
       "    .dataframe tbody tr th:only-of-type {\n",
       "        vertical-align: middle;\n",
       "    }\n",
       "\n",
       "    .dataframe tbody tr th {\n",
       "        vertical-align: top;\n",
       "    }\n",
       "\n",
       "    .dataframe thead th {\n",
       "        text-align: right;\n",
       "    }\n",
       "</style>\n",
       "<table border=\"1\" class=\"dataframe\">\n",
       "  <thead>\n",
       "    <tr style=\"text-align: right;\">\n",
       "      <th></th>\n",
       "      <th>Province/State</th>\n",
       "      <th>Country/Region</th>\n",
       "      <th>Lat</th>\n",
       "      <th>Long</th>\n",
       "      <th>Date</th>\n",
       "      <th>Value</th>\n",
       "    </tr>\n",
       "  </thead>\n",
       "  <tbody>\n",
       "    <tr>\n",
       "      <th>1</th>\n",
       "      <td>NaN</td>\n",
       "      <td>afghanistan</td>\n",
       "      <td>33</td>\n",
       "      <td>65</td>\n",
       "      <td>2020-03-18</td>\n",
       "      <td>22</td>\n",
       "    </tr>\n",
       "    <tr>\n",
       "      <th>2</th>\n",
       "      <td>NaN</td>\n",
       "      <td>afghanistan</td>\n",
       "      <td>33</td>\n",
       "      <td>65</td>\n",
       "      <td>2020-03-17</td>\n",
       "      <td>22</td>\n",
       "    </tr>\n",
       "    <tr>\n",
       "      <th>3</th>\n",
       "      <td>NaN</td>\n",
       "      <td>afghanistan</td>\n",
       "      <td>33</td>\n",
       "      <td>65</td>\n",
       "      <td>2020-03-16</td>\n",
       "      <td>21</td>\n",
       "    </tr>\n",
       "    <tr>\n",
       "      <th>4</th>\n",
       "      <td>NaN</td>\n",
       "      <td>Afghanistan</td>\n",
       "      <td>33</td>\n",
       "      <td>65</td>\n",
       "      <td>2020-03-15</td>\n",
       "      <td>16</td>\n",
       "    </tr>\n",
       "    <tr>\n",
       "      <th>5</th>\n",
       "      <td>NaN</td>\n",
       "      <td>afghanistan</td>\n",
       "      <td>33</td>\n",
       "      <td>65</td>\n",
       "      <td>2020-03-14</td>\n",
       "      <td>11</td>\n",
       "    </tr>\n",
       "  </tbody>\n",
       "</table>\n",
       "</div>"
      ],
      "text/plain": [
       "  Province/State Country/Region Lat Long        Date Value\n",
       "1            NaN    afghanistan  33   65  2020-03-18    22\n",
       "2            NaN    afghanistan  33   65  2020-03-17    22\n",
       "3            NaN    afghanistan  33   65  2020-03-16    21\n",
       "4            NaN    Afghanistan  33   65  2020-03-15    16\n",
       "5            NaN    afghanistan  33   65  2020-03-14    11"
      ]
     },
     "execution_count": 3,
     "metadata": {},
     "output_type": "execute_result"
    }
   ],
   "source": [
    "df = df.drop([0]) # remove a primeira linha da base de dados\n",
    "# df = df.reset_index() # resetando os indices para colocar na forma original\n",
    "df.head() # mostra uma amostra da base de dados "
   ]
  },
  {
   "cell_type": "code",
   "execution_count": 4,
   "metadata": {},
   "outputs": [
    {
     "data": {
      "text/html": [
       "<div>\n",
       "<style scoped>\n",
       "    .dataframe tbody tr th:only-of-type {\n",
       "        vertical-align: middle;\n",
       "    }\n",
       "\n",
       "    .dataframe tbody tr th {\n",
       "        vertical-align: top;\n",
       "    }\n",
       "\n",
       "    .dataframe thead th {\n",
       "        text-align: right;\n",
       "    }\n",
       "</style>\n",
       "<table border=\"1\" class=\"dataframe\">\n",
       "  <thead>\n",
       "    <tr style=\"text-align: right;\">\n",
       "      <th></th>\n",
       "      <th>Province/State</th>\n",
       "      <th>Country/Region</th>\n",
       "      <th>Lat</th>\n",
       "      <th>Long</th>\n",
       "      <th>Date</th>\n",
       "      <th>Value</th>\n",
       "    </tr>\n",
       "  </thead>\n",
       "  <tbody>\n",
       "    <tr>\n",
       "      <th>0</th>\n",
       "      <td>NaN</td>\n",
       "      <td>afghanistan</td>\n",
       "      <td>33</td>\n",
       "      <td>65</td>\n",
       "      <td>2020-03-18</td>\n",
       "      <td>22</td>\n",
       "    </tr>\n",
       "    <tr>\n",
       "      <th>1</th>\n",
       "      <td>NaN</td>\n",
       "      <td>afghanistan</td>\n",
       "      <td>33</td>\n",
       "      <td>65</td>\n",
       "      <td>2020-03-17</td>\n",
       "      <td>22</td>\n",
       "    </tr>\n",
       "    <tr>\n",
       "      <th>2</th>\n",
       "      <td>NaN</td>\n",
       "      <td>afghanistan</td>\n",
       "      <td>33</td>\n",
       "      <td>65</td>\n",
       "      <td>2020-03-16</td>\n",
       "      <td>21</td>\n",
       "    </tr>\n",
       "    <tr>\n",
       "      <th>3</th>\n",
       "      <td>NaN</td>\n",
       "      <td>Afghanistan</td>\n",
       "      <td>33</td>\n",
       "      <td>65</td>\n",
       "      <td>2020-03-15</td>\n",
       "      <td>16</td>\n",
       "    </tr>\n",
       "    <tr>\n",
       "      <th>4</th>\n",
       "      <td>NaN</td>\n",
       "      <td>afghanistan</td>\n",
       "      <td>33</td>\n",
       "      <td>65</td>\n",
       "      <td>2020-03-14</td>\n",
       "      <td>11</td>\n",
       "    </tr>\n",
       "    <tr>\n",
       "      <th>...</th>\n",
       "      <td>...</td>\n",
       "      <td>...</td>\n",
       "      <td>...</td>\n",
       "      <td>...</td>\n",
       "      <td>...</td>\n",
       "      <td>...</td>\n",
       "    </tr>\n",
       "    <tr>\n",
       "      <th>26329</th>\n",
       "      <td>NaN</td>\n",
       "      <td>zambia</td>\n",
       "      <td>-15.4167</td>\n",
       "      <td>28.2833</td>\n",
       "      <td>2020-01-26</td>\n",
       "      <td>0</td>\n",
       "    </tr>\n",
       "    <tr>\n",
       "      <th>26330</th>\n",
       "      <td>NaN</td>\n",
       "      <td>Zambia</td>\n",
       "      <td>-15.4167</td>\n",
       "      <td>28.2833</td>\n",
       "      <td>2020-01-25</td>\n",
       "      <td>0</td>\n",
       "    </tr>\n",
       "    <tr>\n",
       "      <th>26331</th>\n",
       "      <td>NaN</td>\n",
       "      <td>Zambia</td>\n",
       "      <td>-15.4167</td>\n",
       "      <td>28.2833</td>\n",
       "      <td>2020-01-24</td>\n",
       "      <td>0</td>\n",
       "    </tr>\n",
       "    <tr>\n",
       "      <th>26332</th>\n",
       "      <td>NaN</td>\n",
       "      <td>zambia</td>\n",
       "      <td>-15.4167</td>\n",
       "      <td>28.2833</td>\n",
       "      <td>2020-01-23</td>\n",
       "      <td>0</td>\n",
       "    </tr>\n",
       "    <tr>\n",
       "      <th>26333</th>\n",
       "      <td>NaN</td>\n",
       "      <td>zambia</td>\n",
       "      <td>-15.4167</td>\n",
       "      <td>28.2833</td>\n",
       "      <td>2020-01-22</td>\n",
       "      <td>0</td>\n",
       "    </tr>\n",
       "  </tbody>\n",
       "</table>\n",
       "<p>26334 rows × 6 columns</p>\n",
       "</div>"
      ],
      "text/plain": [
       "      Province/State Country/Region       Lat     Long        Date Value\n",
       "0                NaN    afghanistan        33       65  2020-03-18    22\n",
       "1                NaN    afghanistan        33       65  2020-03-17    22\n",
       "2                NaN    afghanistan        33       65  2020-03-16    21\n",
       "3                NaN    Afghanistan        33       65  2020-03-15    16\n",
       "4                NaN    afghanistan        33       65  2020-03-14    11\n",
       "...              ...            ...       ...      ...         ...   ...\n",
       "26329            NaN         zambia  -15.4167  28.2833  2020-01-26     0\n",
       "26330            NaN         Zambia  -15.4167  28.2833  2020-01-25     0\n",
       "26331            NaN         Zambia  -15.4167  28.2833  2020-01-24     0\n",
       "26332            NaN         zambia  -15.4167  28.2833  2020-01-23     0\n",
       "26333            NaN         zambia  -15.4167  28.2833  2020-01-22     0\n",
       "\n",
       "[26334 rows x 6 columns]"
      ]
     },
     "execution_count": 4,
     "metadata": {},
     "output_type": "execute_result"
    }
   ],
   "source": [
    "df = df.reset_index(drop=True) # resetando o indice para iniciar com o valor zero novamente\n",
    "df"
   ]
  },
  {
   "cell_type": "markdown",
   "metadata": {},
   "source": [
    "#### c) (1 ponto)\n",
    "Verifique qual o tipo de dado da coluna \"Value\" e converta o tipo para inteiro (<font color='blue'>int</font>)."
   ]
  },
  {
   "cell_type": "code",
   "execution_count": 5,
   "metadata": {},
   "outputs": [
    {
     "name": "stdout",
     "output_type": "stream",
     "text": [
      "O tipo de dadp da coluna Value é:  <class 'pandas.core.series.Series'> \n",
      "\n",
      "Tipo de dado da coluna Value original:  <class 'str'> \n",
      "\n",
      "Tipo de dado da coluna Value após tratamento:  <class 'numpy.int8'> \n",
      "\n"
     ]
    }
   ],
   "source": [
    "print('O tipo de dadp da coluna Value é: ', type(df['Value']) ,'\\n') # mostra como era a série\n",
    "\n",
    "# teste\n",
    "print('Tipo de dado da coluna Value original: ',type(df.iloc[0,5]), '\\n') # mostra o tipo de dados\n",
    "print('Tipo de dado da coluna Value após tratamento: ',type(pd.to_numeric(df.iloc[0,5], downcast='integer')), '\\n') # mostra o tipo de dados após tratamento\n",
    "\n",
    "df.Value = pd.to_numeric(df.Value, downcast='integer') # conversão de str para inteiro"
   ]
  },
  {
   "cell_type": "markdown",
   "metadata": {},
   "source": [
    "### Questão 2 (2 pontos)\n",
    "Devido a um erro de armazenamento de inteiros, alguns países apresentam mais de 8 bilhões de casos de COVID19 (valor da coluna \"Value\" maior ou igual a 8.000.000.000) \n",
    "\n",
    "Elimine as linhas onde o número de casos é maior ou igual a 8 bilhões."
   ]
  },
  {
   "cell_type": "code",
   "execution_count": 6,
   "metadata": {},
   "outputs": [],
   "source": [
    "linhas = df[df['Value'] >= 8000000000].index.to_list() # criando uma lista de indices onde o argumento 'acima de 8000000000' é verdadeiro\n",
    "df = df.drop(linhas) # dropando linhas com esta condicao"
   ]
  },
  {
   "cell_type": "code",
   "execution_count": 7,
   "metadata": {},
   "outputs": [
    {
     "data": {
      "text/plain": [
       "count    26315.000000\n",
       "mean       153.545772\n",
       "std       2488.391988\n",
       "min          0.000000\n",
       "25%          0.000000\n",
       "50%          0.000000\n",
       "75%          0.000000\n",
       "max      67800.000000\n",
       "Name: Value, dtype: float64"
      ]
     },
     "execution_count": 7,
     "metadata": {},
     "output_type": "execute_result"
    }
   ],
   "source": [
    "df.Value.describe() # testando para ver se realmente foram removidas as linhas"
   ]
  },
  {
   "cell_type": "markdown",
   "metadata": {},
   "source": [
    "### Questão 3 (3 pontos)\n",
    "O nome de alguns países estão com a primeira letra em maíuscula e outros não.\n",
    "\n",
    "Transforme os nomes dos países na coluna \"Country/Region\" para que contenham apenas letras **minúsculas**."
   ]
  },
  {
   "cell_type": "code",
   "execution_count": 8,
   "metadata": {},
   "outputs": [
    {
     "name": "stdout",
     "output_type": "stream",
     "text": [
      "['afghanistan' 'albania' 'algeria' 'andorra' 'antigua and barbuda'\n",
      " 'argentina' 'armenia' 'australia' 'austria' 'azerbaijan' 'bahrain'\n",
      " 'bangladesh' 'barbados' 'belarus' 'belgium' 'benin' 'bhutan' 'bolivia'\n",
      " 'bosnia and herzegovina' 'brazil' 'brunei' 'bulgaria' 'burkina faso'\n",
      " 'cambodia' 'cameroon' 'canada' 'central african republic' 'chile' 'china'\n",
      " 'colombia' 'congo (brazzaville)' 'congo (kinshasa)' 'costa rica'\n",
      " \"cote d'ivoire\" 'croatia' 'cruise ship' 'cuba' 'cyprus' 'czechia'\n",
      " 'denmark' 'djibouti' 'dominican republic' 'ecuador' 'egypt'\n",
      " 'equatorial guinea' 'estonia' 'eswatini' 'ethiopia' 'finland' 'france'\n",
      " 'gabon' 'gambia, the' 'georgia' 'germany' 'ghana' 'greece' 'greenland'\n",
      " 'guatemala' 'guinea' 'guyana' 'holy see' 'honduras' 'hungary' 'iceland'\n",
      " 'india' 'indonesia' 'iran' 'iraq' 'ireland' 'israel' 'italy' 'jamaica'\n",
      " 'japan' 'jordan' 'kazakhstan' 'kenya' 'korea, south' 'kosovo' 'kuwait'\n",
      " 'kyrgyzstan' 'latvia' 'lebanon' 'liberia' 'liechtenstein' 'lithuania'\n",
      " 'luxembourg' 'malaysia' 'maldives' 'malta' 'martinique' 'mauritania'\n",
      " 'mauritius' 'mexico' 'moldova' 'monaco' 'mongolia' 'montenegro' 'morocco'\n",
      " 'namibia' 'nepal' 'netherlands' 'new zealand' 'nigeria' 'north macedonia'\n",
      " 'norway' 'oman' 'pakistan' 'panama' 'paraguay' 'peru' 'philippines'\n",
      " 'poland' 'portugal' 'qatar' 'romania' 'russia' 'rwanda' 'saint lucia'\n",
      " 'saint vincent and the grenadines' 'san marino' 'saudi arabia' 'senegal'\n",
      " 'serbia' 'seychelles' 'singapore' 'slovakia' 'slovenia' 'somalia'\n",
      " 'south africa' 'spain' 'sri lanka' 'sudan' 'suriname' 'sweden'\n",
      " 'switzerland' 'taiwan*' 'tanzania' 'thailand' 'the bahamas' 'togo'\n",
      " 'trinidad and tobago' 'tunisia' 'turkey' 'ukraine' 'united arab emirates'\n",
      " 'united kingdom' 'uruguay' 'us' 'uzbekistan' 'venezuela' 'vietnam'\n",
      " 'zambia']\n"
     ]
    }
   ],
   "source": [
    "df['Country/Region'] = df['Country/Region'].str.lower() # colocando todos os caracteres de todos os nomes de países em caixa baixa\n",
    "print(df['Country/Region'].unique()) # testando para ver se todos os paises estao com o nome em caixa baixa"
   ]
  },
  {
   "cell_type": "markdown",
   "metadata": {},
   "source": [
    "### Questão 4 (3 pontos)\n",
    "Quais são os três países com a maior quantidade de infectados?\n",
    "\n",
    "Lembre de considerar apenas o maior valor de cada país.\n",
    "\n",
    "**DICA:** groupby + max"
   ]
  },
  {
   "cell_type": "code",
   "execution_count": 21,
   "metadata": {},
   "outputs": [
    {
     "name": "stdout",
     "output_type": "stream",
     "text": [
      "Os 3 países que detiveram maiores quantidade de infectados num dia são:  \n",
      " ['china', 'italy', 'iran']\n"
     ]
    }
   ],
   "source": [
    "teste = pd.DataFrame(df.groupby(['Country/Region'])['Value'].max()) # pegando o max de cada país\n",
    "print('Os 3 países que detiveram maiores quantidade de infectados num dia são: ','\\n',\n",
    "      teste.sort_values(by='Value', ascending=False).iloc[0:3,:].index.to_list())"
   ]
  },
  {
   "cell_type": "markdown",
   "metadata": {},
   "source": [
    "### Questão Bonus (2 pontos)\n",
    "Considerando que a taxa de crescimento diária do vírus é de 1.31, quantos dias até o Brasil atingir 10000 casos?\n",
    "\n",
    "OBS: A fórmula para a quantidade de pessoas infectada no dia $n$ a partir da quantidade atual é:\n",
    "\n",
    "$ quantidade\\_atual * (1+1.31^{n})$ (dentro do parênteses: 1 mais 1.31 elevado a $n$)"
   ]
  },
  {
   "cell_type": "code",
   "execution_count": null,
   "metadata": {},
   "outputs": [],
   "source": [
    "def covid19(quantidade_atual):   # contagem de dias até o brasil atingir 10000 infectados\n",
    "    \n",
    "    n = 1\n",
    "    while quantidade_atual < 10000: # condição\n",
    "        quantidade_atual = quantidade_atual*(1+(1.31**n)) # cálculo do crescimento\n",
    "        n = n+1\n",
    "    return(n)"
   ]
  },
  {
   "cell_type": "code",
   "execution_count": null,
   "metadata": {},
   "outputs": [],
   "source": [
    "teste=df[df['Country/Region'] == 'brazil'] # filtrando somente Brasil\n",
    "teste.iloc[0,5]"
   ]
  },
  {
   "cell_type": "code",
   "execution_count": null,
   "metadata": {},
   "outputs": [],
   "source": [
    "covid19(teste.iloc[0,5]) # 5 dias de contágio para atingir 10000 pessoas"
   ]
  }
 ],
 "metadata": {
  "kernelspec": {
   "display_name": "Python 3",
   "language": "python",
   "name": "python3"
  },
  "language_info": {
   "codemirror_mode": {
    "name": "ipython",
    "version": 3
   },
   "file_extension": ".py",
   "mimetype": "text/x-python",
   "name": "python",
   "nbconvert_exporter": "python",
   "pygments_lexer": "ipython3",
   "version": "3.7.3"
  },
  "toc": {
   "base_numbering": 1,
   "nav_menu": {},
   "number_sections": true,
   "sideBar": true,
   "skip_h1_title": false,
   "title_cell": "Table of Contents",
   "title_sidebar": "Contents",
   "toc_cell": false,
   "toc_position": {},
   "toc_section_display": true,
   "toc_window_display": false
  }
 },
 "nbformat": 4,
 "nbformat_minor": 4
}
