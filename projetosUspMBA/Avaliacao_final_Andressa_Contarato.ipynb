{
 "cells": [
  {
   "cell_type": "markdown",
   "metadata": {},
   "source": [
    "# Projeto de Ciências de Dados"
   ]
  },
  {
   "cell_type": "markdown",
   "metadata": {},
   "source": [
    "##### Professor: Francisco Rodrigues\n",
    "##### Aluna: Andressa Contarato Rodrigues"
   ]
  },
  {
   "cell_type": "markdown",
   "metadata": {},
   "source": [
    "O desenvolvimento desse projeto se dará através dos seguintes passos:\n",
    "    \n",
    "    * Pré-processamento\n",
    "    \n",
    "    1- Formulação do problema e preparo dos dados\n",
    "    2 - Limpeza e normalização dos dados\n",
    "    3- Transformação para valores numéricos (one-hot-encoding) se precisar.\n",
    "    \n",
    "    * Classificação (classificar de acordo com a qualidade)\n",
    "    \n",
    "    4 - kvizinhos (encontre o melhor k usando validação cruzada)\n",
    "    5 - Árvore de decisão\n",
    "    6 - Naive Bayes\n",
    "    7 - SVM (encontre o melhor C usando validação cruzada)\n",
    "    8 - Random Forest (encontre o melhor número de estimadores usando validação cruzada)\n",
    "    \n",
    "    * Ordenação dos atributos\n",
    "    \n",
    "    9 - Para o algoritmo random forest, mostre a importância de cada atributo.\n",
    "    \n",
    "    * Regressão\n",
    "    \n",
    "    10 - Usando regressão linear, tente predizer a porcentagem de álcool.\n",
    "    11 - Compare os métodos Lasso, Ridge Regression, calculando o erro quadrático médio em função dos seus parâmetros (alpha).\n",
    "    \n",
    "    * Conclusão\n",
    "    \n",
    "    12 - Discussão dos resultados obtidos"
   ]
  },
  {
   "cell_type": "markdown",
   "metadata": {},
   "source": [
    "<span style=\"color:yellow\"> Objetivo: Vamos considerar o problema de classificação dos de vinhos disponível no portal Kaggle (link: https://www.kaggle.com/uciml/red-wine-quality-cortez-et-al-2009).\n",
    "Ou seja, objetivamos construir um projeto para classificar os dados e posterior submissão, de modo a verificar o quão preciso são nossos resultados comparados com soluções de outros usuários. \n",
    "Vamos mostrar todas as fases do projeto e os resultados, mas lembramos que essa é uma possível solução. </span>"
   ]
  },
  {
   "cell_type": "markdown",
   "metadata": {},
   "source": [
    "Nosso objetivo é classificar o vinho de acordo com a qualidade dele"
   ]
  },
  {
   "cell_type": "markdown",
   "metadata": {},
   "source": [
    "## Formulação do problema e leitura dos dados"
   ]
  },
  {
   "cell_type": "markdown",
   "metadata": {},
   "source": [
    "Vamos considerar a base de dados de vinhos."
   ]
  },
  {
   "cell_type": "markdown",
   "metadata": {},
   "source": [
    "Atributos contidos nos dados\n",
    "\n",
    "1 - fixed acidity: a maioria dos ácidos envolvidos no vinho ou fixa ou não volátil (não evapore rapidamente) \n",
    "\n",
    "2 - volatile acidity: a quantidade de ácido acético no vinho, que em níveis muito altos pode levar a um sabor desagradável ao vinagre \n",
    "\n",
    "3 - citric acid: encontrado em pequenas quantidades, o ácido cítrico pode adicionar 'frescura' e sabor aos vinhos\n",
    "\n",
    "4 - residual sugar: a quantidade de açúcar restante após o término da fermentação, é raro encontrar vinhos com menos de 1 grama / litro e vinhos com mais de 45 gramas / litro são considerados doces \n",
    "\n",
    "5 - chlorides: a quantidade de sal no vinho \n",
    "\n",
    "6 - free sulfur dioxide: a forma livre de SO2 existe em equilíbrio entre o SO2 molecular (como um gás dissolvido) e o íon bissulfito; impede o crescimento microbiano e a oxidação do vinho \n",
    "\n",
    "7 - total sulfur dioxide: formas livres e ligadas de S02; em baixas concentrações, o SO2 é principalmente indetectável no vinho, mas em concentrações livres de SO2 acima de 50 ppm, o SO2 se torna evidente no nariz e no sabor do vinho \n",
    "\n",
    "8 - density: a densidade da água no vinho é próxima à da água, dependendo da porcentagem de teor de álcool e açúcar \n",
    "\n",
    "9 - pH: descreve como um vinho é ácido ou básico em uma escala de 0 (muito ácido) a 14 (muito básico); a maioria dos vinhos tem entre 3-4 na escala de pH \n",
    "\n",
    "10 - sulphates: um aditivo de vinho que pode contribuir para os níveis de gás dióxido de enxofre (S02), que atua como antimicrobiano e antioxidante \n",
    "\n",
    "11 - alcohol: a percentagem de álcool do vinho \n",
    "\n",
    "12 - quality: variável de saída de qualidade (com base em dados sensoriais, pontuação entre 0 e 10)"
   ]
  },
  {
   "cell_type": "markdown",
   "metadata": {},
   "source": [
    "Importando os pacotes necessários"
   ]
  },
  {
   "cell_type": "code",
   "execution_count": 52,
   "metadata": {},
   "outputs": [],
   "source": [
    "# Dentro da linguagem pandas ha vários métodos e funções pré-definidas, porém muitas das quais vamos utilizar aqui, \n",
    "# temos que 'chamar' através de uma estrutura import ou se for um módulo \n",
    "# de uma biblioteca, através do from.\n",
    "\n",
    "import matplotlib.pyplot as plt # módulo matplotlib para construcao de graficos\n",
    "import numpy as np # biblioteca pandas usada para manipulação de dados, tb da forma big data e construção de métricas\n",
    "import os # biblioteca python para setar egerenciar arquivos localmente\n",
    "import pandas as pd # biblioteca Pandas é usada para manipulação de dados\n",
    "import random # módulo do Numpy de geração de números randomicos\n",
    "from sklearn.preprocessing import StandardScaler # módulo do sklearn para padronização dos dados do sklearn para padronizacao e normalizacao dos dados\n",
    "from sklearn.model_selection import train_test_split # módulo do sklearn para separar dados de teste e de treino\n",
    "from sklearn.model_selection import cross_validate # módulo sklearn para validação cruzada\n",
    "from sklearn.neighbors import KNeighborsClassifier # módulo sklearn para calcular o modelo de machine learning knn\n",
    "from sklearn import tree # importando o módulo do sklearn do modelo de árvore de decisão\n",
    "from sklearn.metrics import accuracy_score # para calculo da acurácia em módulos que nao se tem implementados\n",
    "from sklearn import tree # importando módulo de visualização da árvore\n",
    "from sklearn.naive_bayes import GaussianNB # módulo do sklearn para implementação do modelo de Naive Bayes com distribuição normal\n",
    "from sklearn import metrics # módulo do sklearn para computação de métricas dentro do modelo de naive bayes\n",
    "from sklearn.naive_bayes import BernoulliNB # módulo do sklearn para implementação do modelo de Naive Bayes com distribuição bernoulli\n",
    "from sklearn.ensemble import RandomForestClassifier # módulo do sklearn para construção do modelo de Random Forest\n",
    "from sklearn.linear_model import LinearRegression # módulo sklearn para regressao linear\n",
    "from sklearn.decomposition import PCA # módulo sklearn para construção da pca\n",
    "from sklearn.model_selection import train_test_split # módulo sklearn para construcao do split para dataset de teste e de treino num modelo de regressao linear\n",
    "from sklearn.linear_model import Lasso # módulo sklearn para importacao da métrica de lasso\n",
    "from sklearn.metrics import mean_squared_error # módulo sklear para importacao da estatistica de teste erro quadrático médio\n",
    "from sklearn.metrics import r2_score # módulo sklear para importacao da estatistica de teste R2\n",
    "from sklearn.linear_model import Ridge, RidgeCV # módulo sklearn para importacao da métrica de ridge\n"
   ]
  },
  {
   "cell_type": "markdown",
   "metadata": {},
   "source": [
    "1- Formulação do problema e preparo dos dados"
   ]
  },
  {
   "cell_type": "code",
   "execution_count": 2,
   "metadata": {
    "collapsed": true,
    "jupyter": {
     "outputs_hidden": true
    }
   },
   "outputs": [
    {
     "name": "stdout",
     "output_type": "stream",
     "text": [
      "Número de linhas e colunas no dataset: (1599, 12)\n"
     ]
    },
    {
     "data": {
      "text/html": [
       "<div>\n",
       "<style scoped>\n",
       "    .dataframe tbody tr th:only-of-type {\n",
       "        vertical-align: middle;\n",
       "    }\n",
       "\n",
       "    .dataframe tbody tr th {\n",
       "        vertical-align: top;\n",
       "    }\n",
       "\n",
       "    .dataframe thead th {\n",
       "        text-align: right;\n",
       "    }\n",
       "</style>\n",
       "<table border=\"1\" class=\"dataframe\">\n",
       "  <thead>\n",
       "    <tr style=\"text-align: right;\">\n",
       "      <th></th>\n",
       "      <th>fixed acidity</th>\n",
       "      <th>volatile acidity</th>\n",
       "      <th>citric acid</th>\n",
       "      <th>residual sugar</th>\n",
       "      <th>chlorides</th>\n",
       "      <th>free sulfur dioxide</th>\n",
       "      <th>total sulfur dioxide</th>\n",
       "      <th>density</th>\n",
       "      <th>pH</th>\n",
       "      <th>sulphates</th>\n",
       "      <th>alcohol</th>\n",
       "      <th>quality</th>\n",
       "    </tr>\n",
       "  </thead>\n",
       "  <tbody>\n",
       "    <tr>\n",
       "      <th>0</th>\n",
       "      <td>7.4</td>\n",
       "      <td>0.70</td>\n",
       "      <td>0.00</td>\n",
       "      <td>1.9</td>\n",
       "      <td>0.076</td>\n",
       "      <td>11.0</td>\n",
       "      <td>34.0</td>\n",
       "      <td>0.9978</td>\n",
       "      <td>3.51</td>\n",
       "      <td>0.56</td>\n",
       "      <td>9.4</td>\n",
       "      <td>5</td>\n",
       "    </tr>\n",
       "    <tr>\n",
       "      <th>1</th>\n",
       "      <td>7.8</td>\n",
       "      <td>0.88</td>\n",
       "      <td>0.00</td>\n",
       "      <td>2.6</td>\n",
       "      <td>0.098</td>\n",
       "      <td>25.0</td>\n",
       "      <td>67.0</td>\n",
       "      <td>0.9968</td>\n",
       "      <td>3.20</td>\n",
       "      <td>0.68</td>\n",
       "      <td>9.8</td>\n",
       "      <td>5</td>\n",
       "    </tr>\n",
       "    <tr>\n",
       "      <th>2</th>\n",
       "      <td>7.8</td>\n",
       "      <td>0.76</td>\n",
       "      <td>0.04</td>\n",
       "      <td>2.3</td>\n",
       "      <td>0.092</td>\n",
       "      <td>15.0</td>\n",
       "      <td>54.0</td>\n",
       "      <td>0.9970</td>\n",
       "      <td>3.26</td>\n",
       "      <td>0.65</td>\n",
       "      <td>9.8</td>\n",
       "      <td>5</td>\n",
       "    </tr>\n",
       "    <tr>\n",
       "      <th>3</th>\n",
       "      <td>11.2</td>\n",
       "      <td>0.28</td>\n",
       "      <td>0.56</td>\n",
       "      <td>1.9</td>\n",
       "      <td>0.075</td>\n",
       "      <td>17.0</td>\n",
       "      <td>60.0</td>\n",
       "      <td>0.9980</td>\n",
       "      <td>3.16</td>\n",
       "      <td>0.58</td>\n",
       "      <td>9.8</td>\n",
       "      <td>6</td>\n",
       "    </tr>\n",
       "    <tr>\n",
       "      <th>4</th>\n",
       "      <td>7.4</td>\n",
       "      <td>0.70</td>\n",
       "      <td>0.00</td>\n",
       "      <td>1.9</td>\n",
       "      <td>0.076</td>\n",
       "      <td>11.0</td>\n",
       "      <td>34.0</td>\n",
       "      <td>0.9978</td>\n",
       "      <td>3.51</td>\n",
       "      <td>0.56</td>\n",
       "      <td>9.4</td>\n",
       "      <td>5</td>\n",
       "    </tr>\n",
       "    <tr>\n",
       "      <th>5</th>\n",
       "      <td>7.4</td>\n",
       "      <td>0.66</td>\n",
       "      <td>0.00</td>\n",
       "      <td>1.8</td>\n",
       "      <td>0.075</td>\n",
       "      <td>13.0</td>\n",
       "      <td>40.0</td>\n",
       "      <td>0.9978</td>\n",
       "      <td>3.51</td>\n",
       "      <td>0.56</td>\n",
       "      <td>9.4</td>\n",
       "      <td>5</td>\n",
       "    </tr>\n",
       "    <tr>\n",
       "      <th>6</th>\n",
       "      <td>7.9</td>\n",
       "      <td>0.60</td>\n",
       "      <td>0.06</td>\n",
       "      <td>1.6</td>\n",
       "      <td>0.069</td>\n",
       "      <td>15.0</td>\n",
       "      <td>59.0</td>\n",
       "      <td>0.9964</td>\n",
       "      <td>3.30</td>\n",
       "      <td>0.46</td>\n",
       "      <td>9.4</td>\n",
       "      <td>5</td>\n",
       "    </tr>\n",
       "    <tr>\n",
       "      <th>7</th>\n",
       "      <td>7.3</td>\n",
       "      <td>0.65</td>\n",
       "      <td>0.00</td>\n",
       "      <td>1.2</td>\n",
       "      <td>0.065</td>\n",
       "      <td>15.0</td>\n",
       "      <td>21.0</td>\n",
       "      <td>0.9946</td>\n",
       "      <td>3.39</td>\n",
       "      <td>0.47</td>\n",
       "      <td>10.0</td>\n",
       "      <td>7</td>\n",
       "    </tr>\n",
       "    <tr>\n",
       "      <th>8</th>\n",
       "      <td>7.8</td>\n",
       "      <td>0.58</td>\n",
       "      <td>0.02</td>\n",
       "      <td>2.0</td>\n",
       "      <td>0.073</td>\n",
       "      <td>9.0</td>\n",
       "      <td>18.0</td>\n",
       "      <td>0.9968</td>\n",
       "      <td>3.36</td>\n",
       "      <td>0.57</td>\n",
       "      <td>9.5</td>\n",
       "      <td>7</td>\n",
       "    </tr>\n",
       "    <tr>\n",
       "      <th>9</th>\n",
       "      <td>7.5</td>\n",
       "      <td>0.50</td>\n",
       "      <td>0.36</td>\n",
       "      <td>6.1</td>\n",
       "      <td>0.071</td>\n",
       "      <td>17.0</td>\n",
       "      <td>102.0</td>\n",
       "      <td>0.9978</td>\n",
       "      <td>3.35</td>\n",
       "      <td>0.80</td>\n",
       "      <td>10.5</td>\n",
       "      <td>5</td>\n",
       "    </tr>\n",
       "  </tbody>\n",
       "</table>\n",
       "</div>"
      ],
      "text/plain": [
       "   fixed acidity  volatile acidity  citric acid  residual sugar  chlorides  \\\n",
       "0            7.4              0.70         0.00             1.9      0.076   \n",
       "1            7.8              0.88         0.00             2.6      0.098   \n",
       "2            7.8              0.76         0.04             2.3      0.092   \n",
       "3           11.2              0.28         0.56             1.9      0.075   \n",
       "4            7.4              0.70         0.00             1.9      0.076   \n",
       "5            7.4              0.66         0.00             1.8      0.075   \n",
       "6            7.9              0.60         0.06             1.6      0.069   \n",
       "7            7.3              0.65         0.00             1.2      0.065   \n",
       "8            7.8              0.58         0.02             2.0      0.073   \n",
       "9            7.5              0.50         0.36             6.1      0.071   \n",
       "\n",
       "   free sulfur dioxide  total sulfur dioxide  density    pH  sulphates  \\\n",
       "0                 11.0                  34.0   0.9978  3.51       0.56   \n",
       "1                 25.0                  67.0   0.9968  3.20       0.68   \n",
       "2                 15.0                  54.0   0.9970  3.26       0.65   \n",
       "3                 17.0                  60.0   0.9980  3.16       0.58   \n",
       "4                 11.0                  34.0   0.9978  3.51       0.56   \n",
       "5                 13.0                  40.0   0.9978  3.51       0.56   \n",
       "6                 15.0                  59.0   0.9964  3.30       0.46   \n",
       "7                 15.0                  21.0   0.9946  3.39       0.47   \n",
       "8                  9.0                  18.0   0.9968  3.36       0.57   \n",
       "9                 17.0                 102.0   0.9978  3.35       0.80   \n",
       "\n",
       "   alcohol  quality  \n",
       "0      9.4        5  \n",
       "1      9.8        5  \n",
       "2      9.8        5  \n",
       "3      9.8        6  \n",
       "4      9.4        5  \n",
       "5      9.4        5  \n",
       "6      9.4        5  \n",
       "7     10.0        7  \n",
       "8      9.5        7  \n",
       "9     10.5        5  "
      ]
     },
     "execution_count": 2,
     "metadata": {},
     "output_type": "execute_result"
    }
   ],
   "source": [
    "random.seed(42) # define a semente (importante para reproduzir os resultados)\n",
    "\n",
    "dir_file = '/home/andressa/Desktop/' # criando um objeto do meu diretorio do dataset\n",
    "os.chdir(dir_file) # setando aonde meu dataset está\n",
    "df = pd.read_csv('winequality-red.csv') # importando os dados\n",
    "\n",
    "print(\"Número de linhas e colunas no dataset:\", df.shape) # funcao de printar\n",
    "attributes = list(df.columns) # construindo um objeto tipo lista para armazenar os nomes das variaveis\n",
    "features_names = df.columns\n",
    "df.head(10) # funcao head para mostrar uma amostra do dataset"
   ]
  },
  {
   "cell_type": "code",
   "execution_count": 3,
   "metadata": {
    "collapsed": true,
    "jupyter": {
     "outputs_hidden": true
    }
   },
   "outputs": [
    {
     "data": {
      "text/html": [
       "<div>\n",
       "<style scoped>\n",
       "    .dataframe tbody tr th:only-of-type {\n",
       "        vertical-align: middle;\n",
       "    }\n",
       "\n",
       "    .dataframe tbody tr th {\n",
       "        vertical-align: top;\n",
       "    }\n",
       "\n",
       "    .dataframe thead th {\n",
       "        text-align: right;\n",
       "    }\n",
       "</style>\n",
       "<table border=\"1\" class=\"dataframe\">\n",
       "  <thead>\n",
       "    <tr style=\"text-align: right;\">\n",
       "      <th></th>\n",
       "      <th>fixed acidity</th>\n",
       "      <th>volatile acidity</th>\n",
       "      <th>citric acid</th>\n",
       "      <th>residual sugar</th>\n",
       "      <th>chlorides</th>\n",
       "      <th>free sulfur dioxide</th>\n",
       "      <th>total sulfur dioxide</th>\n",
       "      <th>density</th>\n",
       "      <th>pH</th>\n",
       "      <th>sulphates</th>\n",
       "      <th>alcohol</th>\n",
       "      <th>quality</th>\n",
       "      <th>qualidade</th>\n",
       "    </tr>\n",
       "  </thead>\n",
       "  <tbody>\n",
       "    <tr>\n",
       "      <th>0</th>\n",
       "      <td>7.4</td>\n",
       "      <td>0.70</td>\n",
       "      <td>0.00</td>\n",
       "      <td>1.9</td>\n",
       "      <td>0.076</td>\n",
       "      <td>11.0</td>\n",
       "      <td>34.0</td>\n",
       "      <td>0.9978</td>\n",
       "      <td>3.51</td>\n",
       "      <td>0.56</td>\n",
       "      <td>9.4</td>\n",
       "      <td>5</td>\n",
       "      <td>1</td>\n",
       "    </tr>\n",
       "    <tr>\n",
       "      <th>1</th>\n",
       "      <td>7.8</td>\n",
       "      <td>0.88</td>\n",
       "      <td>0.00</td>\n",
       "      <td>2.6</td>\n",
       "      <td>0.098</td>\n",
       "      <td>25.0</td>\n",
       "      <td>67.0</td>\n",
       "      <td>0.9968</td>\n",
       "      <td>3.20</td>\n",
       "      <td>0.68</td>\n",
       "      <td>9.8</td>\n",
       "      <td>5</td>\n",
       "      <td>1</td>\n",
       "    </tr>\n",
       "    <tr>\n",
       "      <th>2</th>\n",
       "      <td>7.8</td>\n",
       "      <td>0.76</td>\n",
       "      <td>0.04</td>\n",
       "      <td>2.3</td>\n",
       "      <td>0.092</td>\n",
       "      <td>15.0</td>\n",
       "      <td>54.0</td>\n",
       "      <td>0.9970</td>\n",
       "      <td>3.26</td>\n",
       "      <td>0.65</td>\n",
       "      <td>9.8</td>\n",
       "      <td>5</td>\n",
       "      <td>1</td>\n",
       "    </tr>\n",
       "    <tr>\n",
       "      <th>3</th>\n",
       "      <td>11.2</td>\n",
       "      <td>0.28</td>\n",
       "      <td>0.56</td>\n",
       "      <td>1.9</td>\n",
       "      <td>0.075</td>\n",
       "      <td>17.0</td>\n",
       "      <td>60.0</td>\n",
       "      <td>0.9980</td>\n",
       "      <td>3.16</td>\n",
       "      <td>0.58</td>\n",
       "      <td>9.8</td>\n",
       "      <td>6</td>\n",
       "      <td>1</td>\n",
       "    </tr>\n",
       "    <tr>\n",
       "      <th>4</th>\n",
       "      <td>7.4</td>\n",
       "      <td>0.70</td>\n",
       "      <td>0.00</td>\n",
       "      <td>1.9</td>\n",
       "      <td>0.076</td>\n",
       "      <td>11.0</td>\n",
       "      <td>34.0</td>\n",
       "      <td>0.9978</td>\n",
       "      <td>3.51</td>\n",
       "      <td>0.56</td>\n",
       "      <td>9.4</td>\n",
       "      <td>5</td>\n",
       "      <td>1</td>\n",
       "    </tr>\n",
       "  </tbody>\n",
       "</table>\n",
       "</div>"
      ],
      "text/plain": [
       "   fixed acidity  volatile acidity  citric acid  residual sugar  chlorides  \\\n",
       "0            7.4              0.70         0.00             1.9      0.076   \n",
       "1            7.8              0.88         0.00             2.6      0.098   \n",
       "2            7.8              0.76         0.04             2.3      0.092   \n",
       "3           11.2              0.28         0.56             1.9      0.075   \n",
       "4            7.4              0.70         0.00             1.9      0.076   \n",
       "\n",
       "   free sulfur dioxide  total sulfur dioxide  density    pH  sulphates  \\\n",
       "0                 11.0                  34.0   0.9978  3.51       0.56   \n",
       "1                 25.0                  67.0   0.9968  3.20       0.68   \n",
       "2                 15.0                  54.0   0.9970  3.26       0.65   \n",
       "3                 17.0                  60.0   0.9980  3.16       0.58   \n",
       "4                 11.0                  34.0   0.9978  3.51       0.56   \n",
       "\n",
       "   alcohol  quality  qualidade  \n",
       "0      9.4        5          1  \n",
       "1      9.8        5          1  \n",
       "2      9.8        5          1  \n",
       "3      9.8        6          1  \n",
       "4      9.4        5          1  "
      ]
     },
     "execution_count": 3,
     "metadata": {},
     "output_type": "execute_result"
    }
   ],
   "source": [
    "# criando uma variavel categorica\n",
    "qualidade = []\n",
    "for i in range(0,df.shape[0]):\n",
    "    if df.iloc[i,11] <= 4:\n",
    "        qualidade.append(0)\n",
    "    else:\n",
    "        qualidade.append(1)\n",
    "df['qualidade'] = qualidade\n",
    "df.head()"
   ]
  },
  {
   "cell_type": "markdown",
   "metadata": {},
   "source": [
    "2 - Limpeza e normalização dos dados"
   ]
  },
  {
   "cell_type": "markdown",
   "metadata": {},
   "source": [
    "O conjunto de dados pode apresentar valores nulos (not a number: nan). A sua identificação pode ser feita usando métodos da biblioteca Pandas."
   ]
  },
  {
   "cell_type": "code",
   "execution_count": 4,
   "metadata": {
    "collapsed": true,
    "jupyter": {
     "outputs_hidden": true
    }
   },
   "outputs": [
    {
     "data": {
      "text/plain": [
       "qualidade               0\n",
       "quality                 0\n",
       "alcohol                 0\n",
       "sulphates               0\n",
       "pH                      0\n",
       "density                 0\n",
       "total sulfur dioxide    0\n",
       "free sulfur dioxide     0\n",
       "chlorides               0\n",
       "residual sugar          0\n",
       "dtype: int64"
      ]
     },
     "execution_count": 4,
     "metadata": {},
     "output_type": "execute_result"
    }
   ],
   "source": [
    "df.isnull().sum().sort_values(ascending=False).head(10)"
   ]
  },
  {
   "cell_type": "code",
   "execution_count": 5,
   "metadata": {},
   "outputs": [],
   "source": [
    "df = df.dropna() # reomoção de valores faltantes"
   ]
  },
  {
   "cell_type": "markdown",
   "metadata": {},
   "source": [
    "Não apresenta nenhum valor faltante"
   ]
  },
  {
   "cell_type": "code",
   "execution_count": 6,
   "metadata": {
    "collapsed": true,
    "jupyter": {
     "outputs_hidden": true
    }
   },
   "outputs": [
    {
     "data": {
      "text/plain": [
       "0       False\n",
       "1       False\n",
       "2       False\n",
       "3       False\n",
       "4        True\n",
       "        ...  \n",
       "1594    False\n",
       "1595    False\n",
       "1596     True\n",
       "1597    False\n",
       "1598    False\n",
       "Length: 1599, dtype: bool"
      ]
     },
     "execution_count": 6,
     "metadata": {},
     "output_type": "execute_result"
    }
   ],
   "source": [
    "# Retorna True na posição em que há uma linha duplicada\n",
    "df.duplicated()"
   ]
  },
  {
   "cell_type": "markdown",
   "metadata": {},
   "source": [
    "Apresenta valor duplicado"
   ]
  },
  {
   "cell_type": "code",
   "execution_count": 7,
   "metadata": {
    "collapsed": true,
    "jupyter": {
     "outputs_hidden": true
    }
   },
   "outputs": [
    {
     "data": {
      "text/html": [
       "<div>\n",
       "<style scoped>\n",
       "    .dataframe tbody tr th:only-of-type {\n",
       "        vertical-align: middle;\n",
       "    }\n",
       "\n",
       "    .dataframe tbody tr th {\n",
       "        vertical-align: top;\n",
       "    }\n",
       "\n",
       "    .dataframe thead th {\n",
       "        text-align: right;\n",
       "    }\n",
       "</style>\n",
       "<table border=\"1\" class=\"dataframe\">\n",
       "  <thead>\n",
       "    <tr style=\"text-align: right;\">\n",
       "      <th></th>\n",
       "      <th>fixed acidity</th>\n",
       "      <th>volatile acidity</th>\n",
       "      <th>citric acid</th>\n",
       "      <th>residual sugar</th>\n",
       "      <th>chlorides</th>\n",
       "      <th>free sulfur dioxide</th>\n",
       "      <th>total sulfur dioxide</th>\n",
       "      <th>density</th>\n",
       "      <th>pH</th>\n",
       "      <th>sulphates</th>\n",
       "      <th>alcohol</th>\n",
       "      <th>quality</th>\n",
       "      <th>qualidade</th>\n",
       "    </tr>\n",
       "  </thead>\n",
       "  <tbody>\n",
       "    <tr>\n",
       "      <th>0</th>\n",
       "      <td>7.4</td>\n",
       "      <td>0.70</td>\n",
       "      <td>0.00</td>\n",
       "      <td>1.9</td>\n",
       "      <td>0.076</td>\n",
       "      <td>11.0</td>\n",
       "      <td>34.0</td>\n",
       "      <td>0.9978</td>\n",
       "      <td>3.51</td>\n",
       "      <td>0.56</td>\n",
       "      <td>9.4</td>\n",
       "      <td>5</td>\n",
       "      <td>1</td>\n",
       "    </tr>\n",
       "    <tr>\n",
       "      <th>1</th>\n",
       "      <td>7.8</td>\n",
       "      <td>0.88</td>\n",
       "      <td>0.00</td>\n",
       "      <td>2.6</td>\n",
       "      <td>0.098</td>\n",
       "      <td>25.0</td>\n",
       "      <td>67.0</td>\n",
       "      <td>0.9968</td>\n",
       "      <td>3.20</td>\n",
       "      <td>0.68</td>\n",
       "      <td>9.8</td>\n",
       "      <td>5</td>\n",
       "      <td>1</td>\n",
       "    </tr>\n",
       "    <tr>\n",
       "      <th>2</th>\n",
       "      <td>7.8</td>\n",
       "      <td>0.76</td>\n",
       "      <td>0.04</td>\n",
       "      <td>2.3</td>\n",
       "      <td>0.092</td>\n",
       "      <td>15.0</td>\n",
       "      <td>54.0</td>\n",
       "      <td>0.9970</td>\n",
       "      <td>3.26</td>\n",
       "      <td>0.65</td>\n",
       "      <td>9.8</td>\n",
       "      <td>5</td>\n",
       "      <td>1</td>\n",
       "    </tr>\n",
       "    <tr>\n",
       "      <th>3</th>\n",
       "      <td>11.2</td>\n",
       "      <td>0.28</td>\n",
       "      <td>0.56</td>\n",
       "      <td>1.9</td>\n",
       "      <td>0.075</td>\n",
       "      <td>17.0</td>\n",
       "      <td>60.0</td>\n",
       "      <td>0.9980</td>\n",
       "      <td>3.16</td>\n",
       "      <td>0.58</td>\n",
       "      <td>9.8</td>\n",
       "      <td>6</td>\n",
       "      <td>1</td>\n",
       "    </tr>\n",
       "    <tr>\n",
       "      <th>5</th>\n",
       "      <td>7.4</td>\n",
       "      <td>0.66</td>\n",
       "      <td>0.00</td>\n",
       "      <td>1.8</td>\n",
       "      <td>0.075</td>\n",
       "      <td>13.0</td>\n",
       "      <td>40.0</td>\n",
       "      <td>0.9978</td>\n",
       "      <td>3.51</td>\n",
       "      <td>0.56</td>\n",
       "      <td>9.4</td>\n",
       "      <td>5</td>\n",
       "      <td>1</td>\n",
       "    </tr>\n",
       "  </tbody>\n",
       "</table>\n",
       "</div>"
      ],
      "text/plain": [
       "   fixed acidity  volatile acidity  citric acid  residual sugar  chlorides  \\\n",
       "0            7.4              0.70         0.00             1.9      0.076   \n",
       "1            7.8              0.88         0.00             2.6      0.098   \n",
       "2            7.8              0.76         0.04             2.3      0.092   \n",
       "3           11.2              0.28         0.56             1.9      0.075   \n",
       "5            7.4              0.66         0.00             1.8      0.075   \n",
       "\n",
       "   free sulfur dioxide  total sulfur dioxide  density    pH  sulphates  \\\n",
       "0                 11.0                  34.0   0.9978  3.51       0.56   \n",
       "1                 25.0                  67.0   0.9968  3.20       0.68   \n",
       "2                 15.0                  54.0   0.9970  3.26       0.65   \n",
       "3                 17.0                  60.0   0.9980  3.16       0.58   \n",
       "5                 13.0                  40.0   0.9978  3.51       0.56   \n",
       "\n",
       "   alcohol  quality  qualidade  \n",
       "0      9.4        5          1  \n",
       "1      9.8        5          1  \n",
       "2      9.8        5          1  \n",
       "3      9.8        6          1  \n",
       "5      9.4        5          1  "
      ]
     },
     "execution_count": 7,
     "metadata": {},
     "output_type": "execute_result"
    }
   ],
   "source": [
    "# Remove as linhas duplicadas\n",
    "df = df.drop_duplicates()\n",
    "df.head()"
   ]
  },
  {
   "cell_type": "markdown",
   "metadata": {},
   "source": [
    "Vamos verificar se as classes estão balanceadas."
   ]
  },
  {
   "cell_type": "code",
   "execution_count": 8,
   "metadata": {
    "collapsed": true,
    "jupyter": {
     "outputs_hidden": true
    }
   },
   "outputs": [
    {
     "data": {
      "image/png": "[encoded data removed]",
      "text/plain": [
       "<Figure size 432x288 with 1 Axes>"
      ]
     },
     "metadata": {
      "needs_background": "light"
     },
     "output_type": "display_data"
    }
   ],
   "source": [
    "classes = df[df.columns[-2]] # considerando a variável quality original do dataset\n",
    "cl = np.unique(classes)\n",
    "ncl = np.zeros(len(cl))\n",
    "for i in np.arange(0, len(cl)):\n",
    "    a = classes == cl[i]\n",
    "    ncl[i] = len(classes[a])\n",
    "    \n",
    "numbers = np.arange(0, len(cl))\n",
    "plt.bar(numbers, ncl,  alpha=.75)\n",
    "plt.xticks(numbers, cl)\n",
    "plt.title('Número de elementos em cada classe')\n",
    "plt.show(True)"
   ]
  },
  {
   "cell_type": "markdown",
   "metadata": {},
   "source": [
    "Há mais vinhos classificados como 5 e 6."
   ]
  },
  {
   "cell_type": "code",
   "execution_count": 9,
   "metadata": {
    "collapsed": true,
    "jupyter": {
     "outputs_hidden": true
    }
   },
   "outputs": [
    {
     "data": {
      "image/png": "[encoded data removed]",
      "text/plain": [
       "<Figure size 432x288 with 1 Axes>"
      ]
     },
     "metadata": {
      "needs_background": "light"
     },
     "output_type": "display_data"
    }
   ],
   "source": [
    "classes = df[df.columns[-1]] # considerando a variável criada qualidade 1 se maior que 4, 0 caso contrario\n",
    "cl = np.unique(classes)\n",
    "ncl = np.zeros(len(cl))\n",
    "for i in np.arange(0, len(cl)):\n",
    "    a = classes == cl[i]\n",
    "    ncl[i] = len(classes[a])\n",
    "    \n",
    "numbers = np.arange(0, len(cl))\n",
    "plt.bar(numbers, ncl,  alpha=.75)\n",
    "plt.xticks(numbers, cl)\n",
    "plt.title('Número de elementos em cada classe')\n",
    "plt.show(True)"
   ]
  },
  {
   "cell_type": "markdown",
   "metadata": {},
   "source": [
    "Ou seja, há mais vinhos classificados como bons. Essa informação será importante na validação cruzada."
   ]
  },
  {
   "cell_type": "markdown",
   "metadata": {},
   "source": [
    "Análise Descritiva"
   ]
  },
  {
   "cell_type": "code",
   "execution_count": 10,
   "metadata": {
    "collapsed": true,
    "jupyter": {
     "outputs_hidden": true
    }
   },
   "outputs": [
    {
     "data": {
      "text/html": [
       "<div>\n",
       "<style scoped>\n",
       "    .dataframe tbody tr th:only-of-type {\n",
       "        vertical-align: middle;\n",
       "    }\n",
       "\n",
       "    .dataframe tbody tr th {\n",
       "        vertical-align: top;\n",
       "    }\n",
       "\n",
       "    .dataframe thead th {\n",
       "        text-align: right;\n",
       "    }\n",
       "</style>\n",
       "<table border=\"1\" class=\"dataframe\">\n",
       "  <thead>\n",
       "    <tr style=\"text-align: right;\">\n",
       "      <th></th>\n",
       "      <th>fixed acidity</th>\n",
       "      <th>volatile acidity</th>\n",
       "      <th>citric acid</th>\n",
       "      <th>residual sugar</th>\n",
       "      <th>chlorides</th>\n",
       "      <th>free sulfur dioxide</th>\n",
       "      <th>total sulfur dioxide</th>\n",
       "      <th>density</th>\n",
       "      <th>pH</th>\n",
       "      <th>sulphates</th>\n",
       "      <th>alcohol</th>\n",
       "      <th>quality</th>\n",
       "      <th>qualidade</th>\n",
       "    </tr>\n",
       "  </thead>\n",
       "  <tbody>\n",
       "    <tr>\n",
       "      <th>count</th>\n",
       "      <td>1359.000000</td>\n",
       "      <td>1359.000000</td>\n",
       "      <td>1359.000000</td>\n",
       "      <td>1359.000000</td>\n",
       "      <td>1359.000000</td>\n",
       "      <td>1359.000000</td>\n",
       "      <td>1359.000000</td>\n",
       "      <td>1359.000000</td>\n",
       "      <td>1359.000000</td>\n",
       "      <td>1359.000000</td>\n",
       "      <td>1359.000000</td>\n",
       "      <td>1359.000000</td>\n",
       "      <td>1359.000000</td>\n",
       "    </tr>\n",
       "    <tr>\n",
       "      <th>mean</th>\n",
       "      <td>8.310596</td>\n",
       "      <td>0.529478</td>\n",
       "      <td>0.272333</td>\n",
       "      <td>2.523400</td>\n",
       "      <td>0.088124</td>\n",
       "      <td>15.893304</td>\n",
       "      <td>46.825975</td>\n",
       "      <td>0.996709</td>\n",
       "      <td>3.309787</td>\n",
       "      <td>0.658705</td>\n",
       "      <td>10.432315</td>\n",
       "      <td>5.623252</td>\n",
       "      <td>0.953642</td>\n",
       "    </tr>\n",
       "    <tr>\n",
       "      <th>std</th>\n",
       "      <td>1.736990</td>\n",
       "      <td>0.183031</td>\n",
       "      <td>0.195537</td>\n",
       "      <td>1.352314</td>\n",
       "      <td>0.049377</td>\n",
       "      <td>10.447270</td>\n",
       "      <td>33.408946</td>\n",
       "      <td>0.001869</td>\n",
       "      <td>0.155036</td>\n",
       "      <td>0.170667</td>\n",
       "      <td>1.082065</td>\n",
       "      <td>0.823578</td>\n",
       "      <td>0.210336</td>\n",
       "    </tr>\n",
       "    <tr>\n",
       "      <th>min</th>\n",
       "      <td>4.600000</td>\n",
       "      <td>0.120000</td>\n",
       "      <td>0.000000</td>\n",
       "      <td>0.900000</td>\n",
       "      <td>0.012000</td>\n",
       "      <td>1.000000</td>\n",
       "      <td>6.000000</td>\n",
       "      <td>0.990070</td>\n",
       "      <td>2.740000</td>\n",
       "      <td>0.330000</td>\n",
       "      <td>8.400000</td>\n",
       "      <td>3.000000</td>\n",
       "      <td>0.000000</td>\n",
       "    </tr>\n",
       "    <tr>\n",
       "      <th>25%</th>\n",
       "      <td>7.100000</td>\n",
       "      <td>0.390000</td>\n",
       "      <td>0.090000</td>\n",
       "      <td>1.900000</td>\n",
       "      <td>0.070000</td>\n",
       "      <td>7.000000</td>\n",
       "      <td>22.000000</td>\n",
       "      <td>0.995600</td>\n",
       "      <td>3.210000</td>\n",
       "      <td>0.550000</td>\n",
       "      <td>9.500000</td>\n",
       "      <td>5.000000</td>\n",
       "      <td>1.000000</td>\n",
       "    </tr>\n",
       "    <tr>\n",
       "      <th>50%</th>\n",
       "      <td>7.900000</td>\n",
       "      <td>0.520000</td>\n",
       "      <td>0.260000</td>\n",
       "      <td>2.200000</td>\n",
       "      <td>0.079000</td>\n",
       "      <td>14.000000</td>\n",
       "      <td>38.000000</td>\n",
       "      <td>0.996700</td>\n",
       "      <td>3.310000</td>\n",
       "      <td>0.620000</td>\n",
       "      <td>10.200000</td>\n",
       "      <td>6.000000</td>\n",
       "      <td>1.000000</td>\n",
       "    </tr>\n",
       "    <tr>\n",
       "      <th>75%</th>\n",
       "      <td>9.200000</td>\n",
       "      <td>0.640000</td>\n",
       "      <td>0.430000</td>\n",
       "      <td>2.600000</td>\n",
       "      <td>0.091000</td>\n",
       "      <td>21.000000</td>\n",
       "      <td>63.000000</td>\n",
       "      <td>0.997820</td>\n",
       "      <td>3.400000</td>\n",
       "      <td>0.730000</td>\n",
       "      <td>11.100000</td>\n",
       "      <td>6.000000</td>\n",
       "      <td>1.000000</td>\n",
       "    </tr>\n",
       "    <tr>\n",
       "      <th>max</th>\n",
       "      <td>15.900000</td>\n",
       "      <td>1.580000</td>\n",
       "      <td>1.000000</td>\n",
       "      <td>15.500000</td>\n",
       "      <td>0.611000</td>\n",
       "      <td>72.000000</td>\n",
       "      <td>289.000000</td>\n",
       "      <td>1.003690</td>\n",
       "      <td>4.010000</td>\n",
       "      <td>2.000000</td>\n",
       "      <td>14.900000</td>\n",
       "      <td>8.000000</td>\n",
       "      <td>1.000000</td>\n",
       "    </tr>\n",
       "  </tbody>\n",
       "</table>\n",
       "</div>"
      ],
      "text/plain": [
       "       fixed acidity  volatile acidity  citric acid  residual sugar  \\\n",
       "count    1359.000000       1359.000000  1359.000000     1359.000000   \n",
       "mean        8.310596          0.529478     0.272333        2.523400   \n",
       "std         1.736990          0.183031     0.195537        1.352314   \n",
       "min         4.600000          0.120000     0.000000        0.900000   \n",
       "25%         7.100000          0.390000     0.090000        1.900000   \n",
       "50%         7.900000          0.520000     0.260000        2.200000   \n",
       "75%         9.200000          0.640000     0.430000        2.600000   \n",
       "max        15.900000          1.580000     1.000000       15.500000   \n",
       "\n",
       "         chlorides  free sulfur dioxide  total sulfur dioxide      density  \\\n",
       "count  1359.000000          1359.000000           1359.000000  1359.000000   \n",
       "mean      0.088124            15.893304             46.825975     0.996709   \n",
       "std       0.049377            10.447270             33.408946     0.001869   \n",
       "min       0.012000             1.000000              6.000000     0.990070   \n",
       "25%       0.070000             7.000000             22.000000     0.995600   \n",
       "50%       0.079000            14.000000             38.000000     0.996700   \n",
       "75%       0.091000            21.000000             63.000000     0.997820   \n",
       "max       0.611000            72.000000            289.000000     1.003690   \n",
       "\n",
       "                pH    sulphates      alcohol      quality    qualidade  \n",
       "count  1359.000000  1359.000000  1359.000000  1359.000000  1359.000000  \n",
       "mean      3.309787     0.658705    10.432315     5.623252     0.953642  \n",
       "std       0.155036     0.170667     1.082065     0.823578     0.210336  \n",
       "min       2.740000     0.330000     8.400000     3.000000     0.000000  \n",
       "25%       3.210000     0.550000     9.500000     5.000000     1.000000  \n",
       "50%       3.310000     0.620000    10.200000     6.000000     1.000000  \n",
       "75%       3.400000     0.730000    11.100000     6.000000     1.000000  \n",
       "max       4.010000     2.000000    14.900000     8.000000     1.000000  "
      ]
     },
     "execution_count": 10,
     "metadata": {},
     "output_type": "execute_result"
    }
   ],
   "source": [
    "df.describe()"
   ]
  },
  {
   "cell_type": "markdown",
   "metadata": {},
   "source": [
    "Temos valores muito discrepantes entre as variaveis, vide o maximo da total sulfur dioxide com a density. E, na variável também, vide a total sulfur dioxide novamente. Necessitando de uma normalização dos dados.\n",
    "Em média, a pontuação do vinho é de boa qualidade (considerando acima de 4 bom)\n",
    "A variação da quality é muito pequena e a variação do total sulfur dioxide é uma das maiores."
   ]
  },
  {
   "cell_type": "code",
   "execution_count": 11,
   "metadata": {},
   "outputs": [
    {
     "name": "stdout",
     "output_type": "stream",
     "text": [
      "Dados originais:\n",
      "Media:  [ 8.31059603  0.52947756  0.2723326   2.52339956  0.08812362 15.8933039\n",
      " 46.82597498  0.99670895  3.30978661  0.65870493 10.43231543]\n",
      "Desvio Padrao: [1.73635062e+00 1.82963965e-01 1.95464590e-01 1.35181613e+00\n",
      " 4.93586925e-02 1.04434258e+01 3.33966517e+01 1.86822940e-03\n",
      " 1.54979260e-01 1.70604088e-01 1.08166727e+00]\n"
     ]
    }
   ],
   "source": [
    "# convertemos em formato numpy para facilitar a manipulacao dos dados\n",
    "data = df.to_numpy() # dataframe do pandas para array numpy\n",
    "nrow,ncol = data.shape # atribuindo aos objetos nrow e ncol o tamanho do conjunto de dados\n",
    "y = data[:,-1] # separando a variavel target\n",
    "X = data[:,0:ncol-2] # construindo o dataset de analise sem a variavel target\n",
    "# retirando a quality para analisar a qualidade como y, variavel target\n",
    "data = df.copy()\n",
    "data.drop(['quality'],axis = 1, inplace = True)\n",
    "\n",
    "print('Dados originais:') # mostrando a média e desvio padrao dos atributos do conjunto de dados X ja transformados\n",
    "print('Media: ', np.mean(X, axis = 0))\n",
    "print('Desvio Padrao:', np.std(X, axis = 0))"
   ]
  },
  {
   "cell_type": "code",
   "execution_count": null,
   "metadata": {},
   "outputs": [],
   "source": [
    "# normalização dos dados de forma a evitar problemas de escala nos atributos\n",
    "scaler = StandardScaler().fit(X) # normalização dos dados\n",
    "X = scaler.transform(X) # tranformação dos dados\n",
    "\n",
    "print('Dados transformados:') # mostrando a média e desvio padrao dos atributos do conjunto de dados X ja transformados\n",
    "print('Media: ', np.mean(X, axis = 0))\n",
    "print('Desvio Padrao:', np.std(X, axis = 0))"
   ]
  },
  {
   "cell_type": "markdown",
   "metadata": {},
   "source": [
    "Os dados aqui ficaram numa escala variando de -8 até 4 aproximadamente (arredondando). Mas a distancia entre eles ficou menor comparado com o dataset original."
   ]
  },
  {
   "cell_type": "markdown",
   "metadata": {},
   "source": [
    "Podemos ter uma ideia da separação entre as classes realizando a projeção dos atributos em duas dimensões usando PCA."
   ]
  },
  {
   "cell_type": "code",
   "execution_count": 14,
   "metadata": {
    "collapsed": true,
    "jupyter": {
     "outputs_hidden": true
    }
   },
   "outputs": [
    {
     "data": {
      "image/png": "[encoded data removed]",
      "text/plain": [
       "<Figure size 576x360 with 1 Axes>"
      ]
     },
     "metadata": {
      "needs_background": "light"
     },
     "output_type": "display_data"
    }
   ],
   "source": [
    "pca = PCA(n_components=2)\n",
    "pca_result = pca.fit_transform(X)\n",
    "\n",
    "classes = np.unique(y)\n",
    "\n",
    "colors = ['b', 'g', 'r', 'c', 'm', 'y', 'k', 'w']\n",
    "aux = 0\n",
    "plt.figure(figsize=(8,5))\n",
    "for c in classes:\n",
    "    if c == 1:\n",
    "        lb = 'Survived'\n",
    "    else:\n",
    "        lb = 'Died'\n",
    "    nodes = np.where(y == c)\n",
    "    plt.scatter(pca_result[nodes,0], pca_result[nodes,1], s=50, color = colors[aux], label = lb)\n",
    "    aux = aux + 1\n",
    "plt.legend()\n",
    "plt.xlabel(\"First component\", fontsize=20)\n",
    "plt.ylabel(\"Second component\", fontsize=20)\n",
    "plt.xticks(color='k', size=20)\n",
    "plt.yticks(color='k', size=20)\n",
    "plt.show(True)"
   ]
  },
  {
   "cell_type": "markdown",
   "metadata": {},
   "source": [
    "Vemos que em duas dimensões, a separação não é clara. Além disso, podemos identificar os atributos que mais explicam a variância nos dados."
   ]
  },
  {
   "cell_type": "code",
   "execution_count": 16,
   "metadata": {
    "collapsed": true,
    "jupyter": {
     "outputs_hidden": true
    }
   },
   "outputs": [
    {
     "data": {
      "image/png": "[encoded data removed]",
      "text/plain": [
       "<Figure size 432x288 with 1 Axes>"
      ]
     },
     "metadata": {
      "needs_background": "light"
     },
     "output_type": "display_data"
    }
   ],
   "source": [
    "pca = PCA()\n",
    "pca_result = pca.fit_transform(X)\n",
    "var_exp = pca.explained_variance_ratio_\n",
    "\n",
    "importances = var_exp\n",
    "attributes = data.columns[1:len(data.iloc[:,0:data.shape[0]-1].columns)]\n",
    "indices = np.argsort(importances)\n",
    "attributes_rank = []\n",
    "for i in indices:\n",
    "    attributes_rank.append(attributes[i])\n",
    "plt.title('Feature Importances')\n",
    "plt.tight_layout()\n",
    "plt.barh(range(len(indices)), importances[indices], color='b', align='center')\n",
    "plt.yticks(range(len(indices)), attributes_rank, fontsize=25)\n",
    "plt.xlabel('Relative Importance',fontsize=25)\n",
    "plt.xticks(color='k', size=20)\n",
    "plt.yticks(color='k', size=20)\n",
    "plt.xlim([0.0, 0.25])\n",
    "\n",
    "plt.show()"
   ]
  },
  {
   "cell_type": "markdown",
   "metadata": {},
   "source": [
    "Ou seja, a classe cujo o vinho é classificado como bom (maior que 4), está intimamente relacionado mais com os atributos volatile acidity, citric acid e residual sugar. Logo, podemos considerar apenas os atributos mais importantes na classificação. No entanto, vamos inicialmente manter esses atributos em nossos dados."
   ]
  },
  {
   "cell_type": "markdown",
   "metadata": {},
   "source": [
    "Podemos verificar como a variância muda de acordo com o número de componentes."
   ]
  },
  {
   "cell_type": "code",
   "execution_count": 18,
   "metadata": {
    "collapsed": true,
    "jupyter": {
     "outputs_hidden": true
    }
   },
   "outputs": [
    {
     "data": {
      "image/png": "[encoded data removed]",
      "text/plain": [
       "<Figure size 576x360 with 1 Axes>"
      ]
     },
     "metadata": {
      "needs_background": "light"
     },
     "output_type": "display_data"
    }
   ],
   "source": [
    "pca = PCA().fit(X)\n",
    "plt.figure(figsize=(8,5))\n",
    "ncomp = np.arange(1, np.shape(X)[1]+1)\n",
    "plt.plot(ncomp, np.cumsum(pca.explained_variance_ratio_), 'ro-')\n",
    "plt.xlabel('number of components', fontsize=20)\n",
    "plt.ylabel('cumulative explained variance', fontsize=20);\n",
    "plt.xticks(color='k', size=20)\n",
    "plt.yticks(color='k', size=20)\n",
    "plt.grid(True)\n",
    "plt.show(True)"
   ]
  },
  {
   "cell_type": "markdown",
   "metadata": {},
   "source": [
    "Notamos que com 7 componentes explicamos cerca de 90% dos dados. No entanto, como o número de atributos não é elevado, vamos considerar os dados sem seleção dos atributos principais, ou seja, os dados sem usar a projeção."
   ]
  },
  {
   "cell_type": "markdown",
   "metadata": {},
   "source": [
    "Podemos também analisar o nível de correlação nos dados."
   ]
  },
  {
   "cell_type": "code",
   "execution_count": 19,
   "metadata": {},
   "outputs": [
    {
     "data": {
      "image/png": "[encoded data removed]",
      "text/plain": [
       "<Figure size 720x576 with 2 Axes>"
      ]
     },
     "metadata": {
      "needs_background": "light"
     },
     "output_type": "display_data"
    }
   ],
   "source": [
    "corr = df.corr()\n",
    "#Plot Correlation Matrix using Matplotlib\n",
    "plt.figure(figsize=(10, 8))\n",
    "plt.imshow(corr, cmap='Blues', interpolation='none', aspect='auto')\n",
    "plt.colorbar()\n",
    "plt.xticks(range(len(corr)), corr.columns, rotation='vertical')\n",
    "plt.yticks(range(len(corr)), corr.columns);\n",
    "plt.suptitle('Correlation between variables', fontsize=15, fontweight='bold')\n",
    "plt.grid(False)\n",
    "plt.show()"
   ]
  },
  {
   "cell_type": "markdown",
   "metadata": {},
   "source": [
    "Verificamos que as variáveis mais correlacionadas são:\n",
    "\n",
    "volatile acidity x citric acid\n",
    "\n",
    "density x fixed acidity\n"
   ]
  },
  {
   "cell_type": "markdown",
   "metadata": {},
   "source": [
    "3- Transformação para valores numéricos (one-hot-encoding) se precisar."
   ]
  },
  {
   "cell_type": "markdown",
   "metadata": {},
   "source": [
    "Os dados aqui são todos numéricos, não fazendo necessária esta etapa de one-hot-enconding."
   ]
  },
  {
   "cell_type": "code",
   "execution_count": 20,
   "metadata": {},
   "outputs": [],
   "source": [
    "# para treinar o classificador, precisamos dividir o dataset em conjunto de teste e de treino\n",
    "\n",
    "p = 0.3 # fracao de elementos no conjunto de teste\n",
    "x_train, x_test, y_train, y_test = train_test_split(X, y, test_size = p, random_state = 42) # dividindo o dataset em teste e treino, de acordo com p que é a porcentagem de dados que quero ter em cada dataset\n",
    "# no caso, definimos 0.3 para teste o 0.7 para treino\n",
    "# A partir desse conjunto de dados, podemos realizar a classificação."
   ]
  },
  {
   "cell_type": "markdown",
   "metadata": {},
   "source": [
    "4 - kvizinhos (encontre o melhor k usando validação cruzada)"
   ]
  },
  {
   "cell_type": "markdown",
   "metadata": {},
   "source": [
    "O primeiro método usado aqui para classificação será o método dos vizinhos mais póximos, ou knn. O knn é baseado no conceito de distância entre atributos. Para realizar a classificação, vamos usar a biblioteca scikit-learn."
   ]
  },
  {
   "cell_type": "code",
   "execution_count": 29,
   "metadata": {},
   "outputs": [
    {
     "name": "stdout",
     "output_type": "stream",
     "text": [
      "k: 1 accurace: 0.9211184210526314\n",
      "k: 2 accurace: 0.885372807017544\n",
      "k: 3 accurace: 0.9463706140350876\n",
      "k: 4 accurace: 0.9400548245614034\n",
      "k: 5 accurace: 0.9505811403508773\n",
      "k: 6 accurace: 0.9463706140350878\n",
      "k: 7 accurace: 0.9516337719298246\n",
      "k: 8 accurace: 0.9505811403508773\n",
      "k: 9 accurace: 0.9526864035087719\n",
      "k: 10 accurace: 0.9505811403508773\n",
      "k: 11 accurace: 0.9526864035087719\n",
      "k: 12 accurace: 0.9526864035087719\n",
      "k: 13 accurace: 0.9526864035087719\n",
      "k: 14 accurace: 0.9526864035087719\n",
      "k: 15 accurace: 0.9526864035087719\n",
      "k: 16 accurace: 0.9526864035087719\n",
      "k: 17 accurace: 0.9526864035087719\n",
      "k: 18 accurace: 0.9526864035087719\n",
      "k: 19 accurace: 0.9526864035087719\n"
     ]
    },
    {
     "data": {
      "image/png": "[encoded data removed]",
      "text/plain": [
       "<Figure size 432x288 with 1 Axes>"
      ]
     },
     "metadata": {
      "needs_background": "light"
     },
     "output_type": "display_data"
    },
    {
     "name": "stdout",
     "output_type": "stream",
     "text": [
      "Melhor k: 9\n"
     ]
    }
   ],
   "source": [
    "nkf = 10 # número de folds\n",
    "vk = [] # armazena os valores de k, criação de lista nula\n",
    "vscore = [] # armazena a média do test score, criação de lista nula\n",
    "for k in range(1, 20):\n",
    "    model = KNeighborsClassifier(n_neighbors=k, metric = 'euclidean') # modelo knn considerando a distancia euclidiana com o argumento metric = 'euclidian'\n",
    "    cv = cross_validate(model, x_train, y_train, cv=nkf) # realiza a validação cruzada\n",
    "    print('k:', k, 'accurace:', cv['test_score'].mean()) # mostra a k-ésima acurácia do k-ésimo modelo\n",
    "    vscore.append(cv['test_score'].mean()) # armazena o resultado numa lista\n",
    "    vk.append(k) # armazenando o valor de k vizinhos na lista e populando a lista que antes era uma lista nula\n",
    "\n",
    "plt.plot(vk, vscore, '-bo') # função de se construir um ambiente para plotar o gráfico\n",
    "plt.xlabel('k', fontsize = 15) # definindo o eixo x\n",
    "plt.ylabel('Accuracy', fontsize = 15) # definindo o eixo y\n",
    "plt.show(True) # plotando\n",
    "best_k = np.argmax(vscore)+1 # mostrando o melhor k com o argumento argmax dentro da lista criada\n",
    "print('Melhor k:', best_k) # mostrando o resultado"
   ]
  },
  {
   "cell_type": "markdown",
   "metadata": {},
   "source": [
    "O melhor k foi k=1 com uma acurácia de 0.6239480807086614, arrendondando para uma casa decimal, temos acurácia igual a 0.6 "
   ]
  },
  {
   "cell_type": "markdown",
   "metadata": {},
   "source": [
    "5 - Árvore de decisão"
   ]
  },
  {
   "cell_type": "code",
   "execution_count": 30,
   "metadata": {},
   "outputs": [
    {
     "name": "stdout",
     "output_type": "stream",
     "text": [
      "Accuracy: 0.9191176470588235\n"
     ]
    }
   ],
   "source": [
    "# criterio de gini\n",
    "model = tree.DecisionTreeClassifier(criterion = 'gini', random_state = 101) # Cria o modelo usando o criterio Gini\n",
    "model.fit(x_train,y_train) # Ajusta o modelo usando os dados de treinamento\n",
    "y_pred = model.predict(x_test) # realizar a predição\n",
    "score = accuracy_score(y_pred, y_test) # calcula a acuracia\n",
    "print('Accuracy:', score) # mostrando a acurácia do modelo"
   ]
  },
  {
   "cell_type": "markdown",
   "metadata": {},
   "source": [
    "A acurácia do modelo de árvore de decisão considerando o criterio de gini, resultou numa acurácia de 0.58125, arredondando, temos uma acurácia de 0.6 "
   ]
  },
  {
   "cell_type": "code",
   "execution_count": 31,
   "metadata": {},
   "outputs": [
    {
     "data": {
      "image/png": "[encoded data removed]",
      "text/plain": [
       "<Figure size 1080x720 with 1 Axes>"
      ]
     },
     "metadata": {
      "needs_background": "light"
     },
     "output_type": "display_data"
    }
   ],
   "source": [
    "model = model.fit(x_train,y_train) # modelo de arvore de decisao\n",
    "plt.figure(figsize=(15,10)) # plotando a figura\n",
    "tree.plot_tree(model, filled = True) # estrutura da figura\n",
    "plt.show(True)"
   ]
  },
  {
   "cell_type": "code",
   "execution_count": 32,
   "metadata": {},
   "outputs": [
    {
     "name": "stdout",
     "output_type": "stream",
     "text": [
      "Accuracy: 0.9411764705882353\n"
     ]
    }
   ],
   "source": [
    "# usando a medida de entropia\n",
    "model = tree.DecisionTreeClassifier(criterion = 'entropy',random_state = 101)\n",
    "model.fit(x_train,y_train)\n",
    "y_pred = model.predict(x_test) \n",
    "score = accuracy_score(y_pred, y_test)\n",
    "print('Accuracy:', score)"
   ]
  },
  {
   "cell_type": "markdown",
   "metadata": {},
   "source": [
    "A acurácia do modelo de árvore de decisão considerando o criterio de gini, resultou numa acurácia de 0.578125, arredondando, temos uma acurácia de 0.6 "
   ]
  },
  {
   "cell_type": "code",
   "execution_count": 33,
   "metadata": {},
   "outputs": [
    {
     "data": {
      "image/png": "[encoded data removed]",
      "text/plain": [
       "<Figure size 1080x720 with 1 Axes>"
      ]
     },
     "metadata": {
      "needs_background": "light"
     },
     "output_type": "display_data"
    }
   ],
   "source": [
    "model = model.fit(x_train,y_train) # modelo de arvore de decisao\n",
    "plt.figure(figsize=(15,10)) # plotando a figura\n",
    "tree.plot_tree(model, filled = True) # estrutura da figura\n",
    "plt.show(True)"
   ]
  },
  {
   "cell_type": "code",
   "execution_count": 34,
   "metadata": {},
   "outputs": [
    {
     "name": "stdout",
     "output_type": "stream",
     "text": [
      "Accuracy: 0.9485294117647058\n"
     ]
    }
   ],
   "source": [
    "# limitando o tamanho da arvore\n",
    "model = tree.DecisionTreeClassifier(criterion = 'gini', max_depth = 2, random_state = 101) # cria o modelo com número máximo de níveis max_depth\n",
    "model.fit(x_train,y_train) # ajusta aos dados de treinamento\n",
    "y_pred = model.predict(x_test) # faz a predição usando os dados de teste\n",
    "score = accuracy_score(y_pred, y_test) # calcula a acurácia\n",
    "print('Accuracy:', score) # mostra o resultado"
   ]
  },
  {
   "cell_type": "code",
   "execution_count": 35,
   "metadata": {},
   "outputs": [
    {
     "name": "stdout",
     "output_type": "stream",
     "text": [
      "Accuracy: 0.9558823529411765\n"
     ]
    }
   ],
   "source": [
    "# limitando o tamanho da arvore\n",
    "model = tree.DecisionTreeClassifier(criterion = 'entropy', max_depth = 2, random_state = 101) # cria o modelo com número máximo de níveis max_depth\n",
    "model.fit(x_train,y_train) # ajusta aos dados de treinamento\n",
    "y_pred = model.predict(x_test) # faz a predição usando os dados de teste\n",
    "score = accuracy_score(y_pred, y_test) # calcula a acurácia\n",
    "print('Accuracy:', score) # mostra o resultado"
   ]
  },
  {
   "cell_type": "markdown",
   "metadata": {},
   "source": [
    "O melhor modelo é da árvore de decisão usando o critério de gini, se considerarmos todas as casas decimais, caso contrário os dois modelos são bons. Limitando os dados, temos um decréscimo na acurácia considerando tanto o modelo de gini quanto de entropia, ambos cairam para uma acurácia de 0.53125, ou 0.5. Utilizando a árvore de decisão completa, temos que a árvore com o critério de entropia apresenta um distribuição maior num ramo só da árvore, enquanto considerando o criterio de gini, a distribuição dos ramos são praticamente homogeneas. "
   ]
  },
  {
   "cell_type": "markdown",
   "metadata": {},
   "source": [
    "6 - Naive Bayes"
   ]
  },
  {
   "cell_type": "markdown",
   "metadata": {},
   "source": [
    "No classificador Naive Bayes, podemos assumir que os atributos são normalmente distribuídos."
   ]
  },
  {
   "cell_type": "code",
   "execution_count": 36,
   "metadata": {},
   "outputs": [
    {
     "name": "stdout",
     "output_type": "stream",
     "text": [
      "Accuracy:  0.9142156862745098\n"
     ]
    }
   ],
   "source": [
    "model = GaussianNB()\n",
    "model.fit(x_train, y_train)\n",
    "\n",
    "y_pred = model.predict(x_test)\n",
    "print('Accuracy: ', model.score(x_test, y_test))"
   ]
  },
  {
   "cell_type": "markdown",
   "metadata": {},
   "source": [
    "A acurácia do modelo de naive bayes considerando os dados com uma distribuição de Normal, resultou numa acurácia de 0.5375, arredondando, temos uma acurácia de 0.5"
   ]
  },
  {
   "cell_type": "markdown",
   "metadata": {},
   "source": [
    "Outra maneira de efetuarmos a classificação é assumirmos que os atributos possuem distribuição diferente da normal. Uma possibilidade é assumirmos que os dados possuem distribuição de Bernoulli."
   ]
  },
  {
   "cell_type": "code",
   "execution_count": 37,
   "metadata": {},
   "outputs": [
    {
     "name": "stdout",
     "output_type": "stream",
     "text": [
      "Accuracy:  0.9558823529411765\n"
     ]
    }
   ],
   "source": [
    "# Usamos a função BernoulliNB para realizar a classificação usando a distribuição de Bernoulli\n",
    "model = BernoulliNB() # modelo considerando os dados com distribuição de bernoulli\n",
    "model.fit(x_train, y_train) # ajuste dos dados no modelo\n",
    "\n",
    "y_pred = model.predict(x_test) # calculo da predicao\n",
    "print('Accuracy: ', model.score(x_test, y_test)) # mostrando a acurácia do modelo"
   ]
  },
  {
   "cell_type": "markdown",
   "metadata": {},
   "source": [
    "A acurácia do modelo de naive bayes considerando os dados com uma distribuição de Bernoulli, resultou numa acurácia de 0.5645833333333333, arredondando, temos uma acurácia de 0.6. Este resultado é melhor comparado com o outro modelo de naive bayes usando distribuição normal."
   ]
  },
  {
   "cell_type": "markdown",
   "metadata": {},
   "source": [
    "7 - SVM (encontre o melhor C usando validação cruzada)"
   ]
  },
  {
   "cell_type": "code",
   "execution_count": 38,
   "metadata": {},
   "outputs": [],
   "source": [
    "from sklearn.svm import SVC\n",
    "from sklearn.model_selection import StratifiedKFold\n",
    "from sklearn.model_selection import KFold\n",
    "from sklearn.metrics import accuracy_score\n",
    "from sklearn.metrics import roc_auc_score"
   ]
  },
  {
   "cell_type": "code",
   "execution_count": 39,
   "metadata": {},
   "outputs": [
    {
     "name": "stdout",
     "output_type": "stream",
     "text": [
      "C: 1 accurace: 0.9558823529411765\n",
      "C: 2 accurace: 0.9558823529411765\n",
      "C: 3 accurace: 0.9558823529411765\n",
      "C: 4 accurace: 0.9558823529411765\n",
      "C: 5 accurace: 0.9558823529411765\n",
      "C: 6 accurace: 0.9583333333333334\n",
      "C: 7 accurace: 0.9534313725490197\n",
      "C: 8 accurace: 0.9509803921568627\n",
      "C: 9 accurace: 0.946078431372549\n",
      "C: 10 accurace: 0.946078431372549\n",
      "C: 11 accurace: 0.9436274509803921\n",
      "C: 12 accurace: 0.9436274509803921\n",
      "C: 13 accurace: 0.9436274509803921\n",
      "C: 14 accurace: 0.9436274509803921\n",
      "C: 15 accurace: 0.9411764705882353\n",
      "C: 16 accurace: 0.9436274509803921\n",
      "C: 17 accurace: 0.9436274509803921\n",
      "C: 18 accurace: 0.9436274509803921\n",
      "C: 19 accurace: 0.9436274509803921\n"
     ]
    },
    {
     "data": {
      "image/png": "[encoded data removed]",
      "text/plain": [
       "<Figure size 432x288 with 1 Axes>"
      ]
     },
     "metadata": {
      "needs_background": "light"
     },
     "output_type": "display_data"
    },
    {
     "name": "stdout",
     "output_type": "stream",
     "text": [
      "Melhor c: 6\n"
     ]
    }
   ],
   "source": [
    "vk = [] # armazena os valores de k, criação de lista nula\n",
    "vscore = [] # armazena a média do test score, criação de lista nula\n",
    "for c in range(1, 20):\n",
    "    cv = StratifiedKFold(n_splits=10, shuffle=True, random_state=1)\n",
    "    model = SVC(C = c, gamma = 'auto')\n",
    "    model.fit(x_train,y_train)\n",
    "    y_pred = model.predict(x_test) \n",
    "    score = accuracy_score(y_pred, y_test)\n",
    "    print('C:', c, 'accurace:', score) # mostra a c-ésima acurácia do c-ésimo modelo\n",
    "    vscore.append(score) # armazena o resultado numa lista\n",
    "    vk.append(c) # armazenando o valor de k vizinhos na lista e populando a lista que antes era uma lista nula\n",
    "\n",
    "plt.plot(vk, vscore, '-bo') # função de se construir um ambiente para plotar o gráfico\n",
    "plt.xlabel('c', fontsize = 15) # definindo o eixo x\n",
    "plt.ylabel('Accuracy', fontsize = 15) # definindo o eixo y\n",
    "plt.show(True) # plotando\n",
    "best_c = np.argmax(vscore)+1 # mostrando o melhor k com o argumento argmax dentro da lista criada\n",
    "print('Melhor c:', best_c) # mostrando o resultado"
   ]
  },
  {
   "cell_type": "markdown",
   "metadata": {},
   "source": [
    "O melhor C foi de 10, C: 10 accurace: 0.625, arredondando a acurácia, temos 0.6."
   ]
  },
  {
   "cell_type": "markdown",
   "metadata": {},
   "source": [
    "8 - Random Forest (encontre o melhor número de estimadores usando validação cruzada)"
   ]
  },
  {
   "cell_type": "markdown",
   "metadata": {},
   "source": [
    "O método florestas aleatórias considera amostragem de observações e atributos. Vamos realizar a classificação."
   ]
  },
  {
   "cell_type": "code",
   "execution_count": 40,
   "metadata": {},
   "outputs": [
    {
     "name": "stdout",
     "output_type": "stream",
     "text": [
      "Accuracy: 0.9558823529411765\n"
     ]
    }
   ],
   "source": [
    "model = RandomForestClassifier(n_estimators=100, bootstrap=True, criterion='gini',\n",
    "            max_features='auto', min_impurity_decrease=0.0, min_samples_leaf=1, \n",
    "            min_samples_split=2, min_weight_fraction_leaf=0.0, n_jobs=1,\n",
    "            oob_score=False, verbose=0, warm_start=False) # modelo de random forest\n",
    "\n",
    "model.fit(x_train,y_train) # ajuste do modelo com as variáveis utilizadas\n",
    "\n",
    "y_pred = model.predict(x_test) # Predict the response for test dataset\n",
    "score = accuracy_score(y_pred, y_test) # acurácia do modelo\n",
    "print('Accuracy:', score) # mostra a o resultado da acurácia do modelo"
   ]
  },
  {
   "cell_type": "markdown",
   "metadata": {},
   "source": [
    "A acurácia para este modelo foi de 0.6729166666666667, arredondando temos a acurácia equivalente a 0.7. Um dos melhores resultados já vistos até então."
   ]
  },
  {
   "cell_type": "markdown",
   "metadata": {},
   "source": [
    "Podemos analisar como o número de árvores influencia no resultado."
   ]
  },
  {
   "cell_type": "code",
   "execution_count": 41,
   "metadata": {
    "collapsed": true,
    "jupyter": {
     "outputs_hidden": true
    }
   },
   "outputs": [
    {
     "name": "stdout",
     "output_type": "stream",
     "text": [
      "Number of Estimators: 1 Accuracy: 0.9264705882352942\n",
      "Number of Estimators: 2 Accuracy: 0.8872549019607843\n",
      "Number of Estimators: 3 Accuracy: 0.946078431372549\n",
      "Number of Estimators: 4 Accuracy: 0.9191176470588235\n",
      "Number of Estimators: 5 Accuracy: 0.9485294117647058\n",
      "Number of Estimators: 6 Accuracy: 0.9362745098039216\n",
      "Number of Estimators: 7 Accuracy: 0.9534313725490197\n",
      "Number of Estimators: 8 Accuracy: 0.9534313725490197\n",
      "Number of Estimators: 9 Accuracy: 0.9607843137254902\n",
      "Number of Estimators: 10 Accuracy: 0.9509803921568627\n",
      "Number of Estimators: 11 Accuracy: 0.9558823529411765\n",
      "Number of Estimators: 12 Accuracy: 0.9558823529411765\n",
      "Number of Estimators: 13 Accuracy: 0.9509803921568627\n",
      "Number of Estimators: 14 Accuracy: 0.9436274509803921\n",
      "Number of Estimators: 15 Accuracy: 0.9534313725490197\n",
      "Number of Estimators: 16 Accuracy: 0.9583333333333334\n",
      "Number of Estimators: 17 Accuracy: 0.9509803921568627\n",
      "Number of Estimators: 18 Accuracy: 0.9534313725490197\n",
      "Number of Estimators: 19 Accuracy: 0.9583333333333334\n",
      "Number of Estimators: 20 Accuracy: 0.9534313725490197\n",
      "Number of Estimators: 21 Accuracy: 0.9485294117647058\n",
      "Number of Estimators: 22 Accuracy: 0.9509803921568627\n",
      "Number of Estimators: 23 Accuracy: 0.9558823529411765\n",
      "Number of Estimators: 24 Accuracy: 0.9558823529411765\n",
      "Number of Estimators: 25 Accuracy: 0.9583333333333334\n",
      "Number of Estimators: 26 Accuracy: 0.9534313725490197\n",
      "Number of Estimators: 27 Accuracy: 0.9534313725490197\n",
      "Number of Estimators: 28 Accuracy: 0.9509803921568627\n",
      "Number of Estimators: 29 Accuracy: 0.9534313725490197\n",
      "Number of Estimators: 30 Accuracy: 0.9534313725490197\n",
      "Number of Estimators: 31 Accuracy: 0.9534313725490197\n",
      "Number of Estimators: 32 Accuracy: 0.9534313725490197\n",
      "Number of Estimators: 33 Accuracy: 0.9558823529411765\n",
      "Number of Estimators: 34 Accuracy: 0.9583333333333334\n",
      "Number of Estimators: 35 Accuracy: 0.9583333333333334\n",
      "Number of Estimators: 36 Accuracy: 0.9558823529411765\n",
      "Number of Estimators: 37 Accuracy: 0.9583333333333334\n",
      "Number of Estimators: 38 Accuracy: 0.9583333333333334\n",
      "Number of Estimators: 39 Accuracy: 0.9583333333333334\n",
      "Number of Estimators: 40 Accuracy: 0.9558823529411765\n",
      "Number of Estimators: 41 Accuracy: 0.9558823529411765\n",
      "Number of Estimators: 42 Accuracy: 0.9509803921568627\n",
      "Number of Estimators: 43 Accuracy: 0.9558823529411765\n",
      "Number of Estimators: 44 Accuracy: 0.9534313725490197\n",
      "Number of Estimators: 45 Accuracy: 0.9583333333333334\n",
      "Number of Estimators: 46 Accuracy: 0.9534313725490197\n",
      "Number of Estimators: 47 Accuracy: 0.9583333333333334\n",
      "Number of Estimators: 48 Accuracy: 0.9534313725490197\n",
      "Number of Estimators: 49 Accuracy: 0.9509803921568627\n",
      "Number of Estimators: 50 Accuracy: 0.9583333333333334\n",
      "Number of Estimators: 51 Accuracy: 0.9583333333333334\n",
      "Number of Estimators: 52 Accuracy: 0.9558823529411765\n",
      "Number of Estimators: 53 Accuracy: 0.9558823529411765\n",
      "Number of Estimators: 54 Accuracy: 0.9534313725490197\n",
      "Number of Estimators: 55 Accuracy: 0.9534313725490197\n",
      "Number of Estimators: 56 Accuracy: 0.9583333333333334\n",
      "Number of Estimators: 57 Accuracy: 0.9509803921568627\n",
      "Number of Estimators: 58 Accuracy: 0.9558823529411765\n",
      "Number of Estimators: 59 Accuracy: 0.9583333333333334\n",
      "Number of Estimators: 60 Accuracy: 0.9558823529411765\n",
      "Number of Estimators: 61 Accuracy: 0.9558823529411765\n",
      "Number of Estimators: 62 Accuracy: 0.9558823529411765\n",
      "Number of Estimators: 63 Accuracy: 0.9583333333333334\n",
      "Number of Estimators: 64 Accuracy: 0.9583333333333334\n",
      "Number of Estimators: 65 Accuracy: 0.9558823529411765\n",
      "Number of Estimators: 66 Accuracy: 0.9583333333333334\n",
      "Number of Estimators: 67 Accuracy: 0.9558823529411765\n",
      "Number of Estimators: 68 Accuracy: 0.9534313725490197\n",
      "Number of Estimators: 69 Accuracy: 0.9534313725490197\n",
      "Number of Estimators: 70 Accuracy: 0.9558823529411765\n",
      "Number of Estimators: 71 Accuracy: 0.9558823529411765\n",
      "Number of Estimators: 72 Accuracy: 0.9558823529411765\n",
      "Number of Estimators: 73 Accuracy: 0.9558823529411765\n",
      "Number of Estimators: 74 Accuracy: 0.9558823529411765\n",
      "Number of Estimators: 75 Accuracy: 0.9558823529411765\n",
      "Number of Estimators: 76 Accuracy: 0.9558823529411765\n",
      "Number of Estimators: 77 Accuracy: 0.9534313725490197\n",
      "Number of Estimators: 78 Accuracy: 0.9534313725490197\n",
      "Number of Estimators: 79 Accuracy: 0.9558823529411765\n",
      "Number of Estimators: 80 Accuracy: 0.9558823529411765\n",
      "Number of Estimators: 81 Accuracy: 0.9583333333333334\n",
      "Number of Estimators: 82 Accuracy: 0.9558823529411765\n",
      "Number of Estimators: 83 Accuracy: 0.9558823529411765\n",
      "Number of Estimators: 84 Accuracy: 0.9583333333333334\n",
      "Number of Estimators: 85 Accuracy: 0.9558823529411765\n",
      "Number of Estimators: 86 Accuracy: 0.9509803921568627\n",
      "Number of Estimators: 87 Accuracy: 0.9534313725490197\n",
      "Number of Estimators: 88 Accuracy: 0.9583333333333334\n",
      "Number of Estimators: 89 Accuracy: 0.9558823529411765\n",
      "Number of Estimators: 90 Accuracy: 0.9558823529411765\n",
      "Number of Estimators: 91 Accuracy: 0.9583333333333334\n",
      "Number of Estimators: 92 Accuracy: 0.9583333333333334\n",
      "Number of Estimators: 93 Accuracy: 0.9583333333333334\n",
      "Number of Estimators: 94 Accuracy: 0.9583333333333334\n",
      "Number of Estimators: 95 Accuracy: 0.9583333333333334\n",
      "Number of Estimators: 96 Accuracy: 0.9534313725490197\n",
      "Number of Estimators: 97 Accuracy: 0.9583333333333334\n",
      "Number of Estimators: 98 Accuracy: 0.9558823529411765\n",
      "Number of Estimators: 99 Accuracy: 0.9583333333333334\n",
      "Melhor n: 9  com acurácia: 0.9607843137254902\n"
     ]
    },
    {
     "data": {
      "image/png": "[encoded data removed]",
      "text/plain": [
       "<Figure size 720x360 with 1 Axes>"
      ]
     },
     "metadata": {
      "needs_background": "light"
     },
     "output_type": "display_data"
    }
   ],
   "source": [
    "vscore = []\n",
    "vn = []\n",
    "for n in range(1,100):\n",
    "    model = RandomForestClassifier(n_estimators=n)\n",
    "    model.fit(x_train,y_train)\n",
    "    y_pred = model.predict(x_test) \n",
    "    score = accuracy_score(y_pred, y_test)\n",
    "    print('Number of Estimators:', n, 'Accuracy:', score)\n",
    "    vscore.append(score)\n",
    "    vn.append(n)\n",
    "best_n = vn[np.argmax(vscore)]\n",
    "print('Melhor n:', best_n, ' com acurácia:', vscore[np.argmax(vscore)] )\n",
    "plt.figure(figsize=(10,5))\n",
    "plt.plot(vn, vscore, '-bo')\n",
    "plt.xlabel('Number of Estimators', fontsize = 15)\n",
    "plt.ylabel('Accuracy', fontsize = 15)\n",
    "plt.show()\n"
   ]
  },
  {
   "cell_type": "markdown",
   "metadata": {},
   "source": [
    "O melhor número de estimadores para o modelo de random forest foi de 56 estimadores com uma acurácia cravada em 0.7."
   ]
  },
  {
   "cell_type": "markdown",
   "metadata": {},
   "source": [
    "9 - Para o algoritmo random forest, mostre a importância de cada atributo."
   ]
  },
  {
   "cell_type": "code",
   "execution_count": 42,
   "metadata": {
    "collapsed": true,
    "jupyter": {
     "outputs_hidden": true
    }
   },
   "outputs": [
    {
     "name": "stdout",
     "output_type": "stream",
     "text": [
      "Accuracy: 0.9485294117647058\n"
     ]
    },
    {
     "data": {
      "image/png": "[encoded data removed]",
      "text/plain": [
       "<Figure size 864x576 with 1 Axes>"
      ]
     },
     "metadata": {
      "needs_background": "light"
     },
     "output_type": "display_data"
    }
   ],
   "source": [
    "# usando o modelo considerado como o melhor, pela avaliação anterior, temos\n",
    "model = RandomForestClassifier(n_estimators=56, bootstrap=True, criterion='gini',\n",
    "            max_features='auto', min_impurity_decrease=0.0, min_samples_leaf=1, \n",
    "            min_samples_split=2, min_weight_fraction_leaf=0.0, n_jobs=1,\n",
    "            oob_score=False, verbose=0, warm_start=False) # modelo de random forest\n",
    "\n",
    "model.fit(x_train,y_train) # ajuste do modelo com as variáveis utilizadas\n",
    "\n",
    "y_pred = model.predict(x_test) # Predict the response for test dataset\n",
    "score = accuracy_score(y_pred, y_test) # acurácia do modelo\n",
    "print('Accuracy:', score) # mostra a o resultado da acurácia do modelo\n",
    "\n",
    "importances = model.feature_importances_ # features mais importantes\n",
    "indices = np.argsort(importances) # os indices de onde estao \n",
    "lmeas_order = [] # ordenacao por relevancia das variaveis\n",
    "for i in indices: # plotagem\n",
    "    lmeas_order.append(features_names[i])\n",
    "plt.figure(figsize=(12,8))\n",
    "plt.barh(range(len(indices)), importances[indices], color='b', align='center')\n",
    "plt.yticks(range(len(indices)), lmeas_order, fontsize=15)\n",
    "plt.xlabel('Relative Importance',fontsize=15)\n",
    "plt.xticks(color='k', size=20)\n",
    "plt.yticks(color='k', size=20)\n",
    "plt.show()"
   ]
  },
  {
   "cell_type": "markdown",
   "metadata": {},
   "source": [
    "A variável que tem a maior importância é alcohol, seguido de sulphates e total sulfur dioxide.\n",
    "Pesquisando sobre 'como avaliar se um vinho é bom', há um artigo do clube do vinho falando de 3 fatores:álcool, acidez e taninos. (link: https://www.clubedosvinhos.com.br/qualidade-de-um-vinho/)\n",
    "A primeira variável que se mostrou importante foi realmente o teor alcóolico.\n",
    "A segunda é o sulfato\n",
    "Os taninos estão ligados a adistringencia, quanto maior quantidade de taninos, os predadores tendem a nao comer a fruta, deixando a fruta intacta e proporcionando um melhor vinho.\n",
    "E a terceira o total sulfur tem uma relação indireta com o componente taninos, pois quanto mais concentração de taninos,maior a ligação de íons livres de SO2 formando este precipitado.\n",
    "Nota: tem um tabu com relação aos taninos em relação ao gosto.Caso uma pessoa nao goste do gosto do vinho é adicionado mais taninos artificiais, sem mudar a composição do vinho."
   ]
  },
  {
   "cell_type": "markdown",
   "metadata": {},
   "source": [
    "10 - Usando regressão linear, tente predizer a porcentagem de álcool."
   ]
  },
  {
   "cell_type": "markdown",
   "metadata": {},
   "source": [
    "O ajuste dos coeficientes da regressão linear é feito usando apenas o conjunto de treinamento."
   ]
  },
  {
   "cell_type": "code",
   "execution_count": 43,
   "metadata": {},
   "outputs": [
    {
     "name": "stdout",
     "output_type": "stream",
     "text": [
      "Número de linhas e colunas no dataset: (1599, 12)\n"
     ]
    },
    {
     "data": {
      "text/html": [
       "<div>\n",
       "<style scoped>\n",
       "    .dataframe tbody tr th:only-of-type {\n",
       "        vertical-align: middle;\n",
       "    }\n",
       "\n",
       "    .dataframe tbody tr th {\n",
       "        vertical-align: top;\n",
       "    }\n",
       "\n",
       "    .dataframe thead th {\n",
       "        text-align: right;\n",
       "    }\n",
       "</style>\n",
       "<table border=\"1\" class=\"dataframe\">\n",
       "  <thead>\n",
       "    <tr style=\"text-align: right;\">\n",
       "      <th></th>\n",
       "      <th>fixed acidity</th>\n",
       "      <th>volatile acidity</th>\n",
       "      <th>citric acid</th>\n",
       "      <th>residual sugar</th>\n",
       "      <th>chlorides</th>\n",
       "      <th>free sulfur dioxide</th>\n",
       "      <th>total sulfur dioxide</th>\n",
       "      <th>density</th>\n",
       "      <th>pH</th>\n",
       "      <th>sulphates</th>\n",
       "      <th>alcohol</th>\n",
       "      <th>quality</th>\n",
       "    </tr>\n",
       "  </thead>\n",
       "  <tbody>\n",
       "    <tr>\n",
       "      <th>0</th>\n",
       "      <td>7.4</td>\n",
       "      <td>0.70</td>\n",
       "      <td>0.00</td>\n",
       "      <td>1.9</td>\n",
       "      <td>0.076</td>\n",
       "      <td>11.0</td>\n",
       "      <td>34.0</td>\n",
       "      <td>0.9978</td>\n",
       "      <td>3.51</td>\n",
       "      <td>0.56</td>\n",
       "      <td>9.4</td>\n",
       "      <td>5</td>\n",
       "    </tr>\n",
       "    <tr>\n",
       "      <th>1</th>\n",
       "      <td>7.8</td>\n",
       "      <td>0.88</td>\n",
       "      <td>0.00</td>\n",
       "      <td>2.6</td>\n",
       "      <td>0.098</td>\n",
       "      <td>25.0</td>\n",
       "      <td>67.0</td>\n",
       "      <td>0.9968</td>\n",
       "      <td>3.20</td>\n",
       "      <td>0.68</td>\n",
       "      <td>9.8</td>\n",
       "      <td>5</td>\n",
       "    </tr>\n",
       "    <tr>\n",
       "      <th>2</th>\n",
       "      <td>7.8</td>\n",
       "      <td>0.76</td>\n",
       "      <td>0.04</td>\n",
       "      <td>2.3</td>\n",
       "      <td>0.092</td>\n",
       "      <td>15.0</td>\n",
       "      <td>54.0</td>\n",
       "      <td>0.9970</td>\n",
       "      <td>3.26</td>\n",
       "      <td>0.65</td>\n",
       "      <td>9.8</td>\n",
       "      <td>5</td>\n",
       "    </tr>\n",
       "    <tr>\n",
       "      <th>3</th>\n",
       "      <td>11.2</td>\n",
       "      <td>0.28</td>\n",
       "      <td>0.56</td>\n",
       "      <td>1.9</td>\n",
       "      <td>0.075</td>\n",
       "      <td>17.0</td>\n",
       "      <td>60.0</td>\n",
       "      <td>0.9980</td>\n",
       "      <td>3.16</td>\n",
       "      <td>0.58</td>\n",
       "      <td>9.8</td>\n",
       "      <td>6</td>\n",
       "    </tr>\n",
       "    <tr>\n",
       "      <th>4</th>\n",
       "      <td>7.4</td>\n",
       "      <td>0.70</td>\n",
       "      <td>0.00</td>\n",
       "      <td>1.9</td>\n",
       "      <td>0.076</td>\n",
       "      <td>11.0</td>\n",
       "      <td>34.0</td>\n",
       "      <td>0.9978</td>\n",
       "      <td>3.51</td>\n",
       "      <td>0.56</td>\n",
       "      <td>9.4</td>\n",
       "      <td>5</td>\n",
       "    </tr>\n",
       "    <tr>\n",
       "      <th>5</th>\n",
       "      <td>7.4</td>\n",
       "      <td>0.66</td>\n",
       "      <td>0.00</td>\n",
       "      <td>1.8</td>\n",
       "      <td>0.075</td>\n",
       "      <td>13.0</td>\n",
       "      <td>40.0</td>\n",
       "      <td>0.9978</td>\n",
       "      <td>3.51</td>\n",
       "      <td>0.56</td>\n",
       "      <td>9.4</td>\n",
       "      <td>5</td>\n",
       "    </tr>\n",
       "    <tr>\n",
       "      <th>6</th>\n",
       "      <td>7.9</td>\n",
       "      <td>0.60</td>\n",
       "      <td>0.06</td>\n",
       "      <td>1.6</td>\n",
       "      <td>0.069</td>\n",
       "      <td>15.0</td>\n",
       "      <td>59.0</td>\n",
       "      <td>0.9964</td>\n",
       "      <td>3.30</td>\n",
       "      <td>0.46</td>\n",
       "      <td>9.4</td>\n",
       "      <td>5</td>\n",
       "    </tr>\n",
       "    <tr>\n",
       "      <th>7</th>\n",
       "      <td>7.3</td>\n",
       "      <td>0.65</td>\n",
       "      <td>0.00</td>\n",
       "      <td>1.2</td>\n",
       "      <td>0.065</td>\n",
       "      <td>15.0</td>\n",
       "      <td>21.0</td>\n",
       "      <td>0.9946</td>\n",
       "      <td>3.39</td>\n",
       "      <td>0.47</td>\n",
       "      <td>10.0</td>\n",
       "      <td>7</td>\n",
       "    </tr>\n",
       "    <tr>\n",
       "      <th>8</th>\n",
       "      <td>7.8</td>\n",
       "      <td>0.58</td>\n",
       "      <td>0.02</td>\n",
       "      <td>2.0</td>\n",
       "      <td>0.073</td>\n",
       "      <td>9.0</td>\n",
       "      <td>18.0</td>\n",
       "      <td>0.9968</td>\n",
       "      <td>3.36</td>\n",
       "      <td>0.57</td>\n",
       "      <td>9.5</td>\n",
       "      <td>7</td>\n",
       "    </tr>\n",
       "    <tr>\n",
       "      <th>9</th>\n",
       "      <td>7.5</td>\n",
       "      <td>0.50</td>\n",
       "      <td>0.36</td>\n",
       "      <td>6.1</td>\n",
       "      <td>0.071</td>\n",
       "      <td>17.0</td>\n",
       "      <td>102.0</td>\n",
       "      <td>0.9978</td>\n",
       "      <td>3.35</td>\n",
       "      <td>0.80</td>\n",
       "      <td>10.5</td>\n",
       "      <td>5</td>\n",
       "    </tr>\n",
       "  </tbody>\n",
       "</table>\n",
       "</div>"
      ],
      "text/plain": [
       "   fixed acidity  volatile acidity  citric acid  residual sugar  chlorides  \\\n",
       "0            7.4              0.70         0.00             1.9      0.076   \n",
       "1            7.8              0.88         0.00             2.6      0.098   \n",
       "2            7.8              0.76         0.04             2.3      0.092   \n",
       "3           11.2              0.28         0.56             1.9      0.075   \n",
       "4            7.4              0.70         0.00             1.9      0.076   \n",
       "5            7.4              0.66         0.00             1.8      0.075   \n",
       "6            7.9              0.60         0.06             1.6      0.069   \n",
       "7            7.3              0.65         0.00             1.2      0.065   \n",
       "8            7.8              0.58         0.02             2.0      0.073   \n",
       "9            7.5              0.50         0.36             6.1      0.071   \n",
       "\n",
       "   free sulfur dioxide  total sulfur dioxide  density    pH  sulphates  \\\n",
       "0                 11.0                  34.0   0.9978  3.51       0.56   \n",
       "1                 25.0                  67.0   0.9968  3.20       0.68   \n",
       "2                 15.0                  54.0   0.9970  3.26       0.65   \n",
       "3                 17.0                  60.0   0.9980  3.16       0.58   \n",
       "4                 11.0                  34.0   0.9978  3.51       0.56   \n",
       "5                 13.0                  40.0   0.9978  3.51       0.56   \n",
       "6                 15.0                  59.0   0.9964  3.30       0.46   \n",
       "7                 15.0                  21.0   0.9946  3.39       0.47   \n",
       "8                  9.0                  18.0   0.9968  3.36       0.57   \n",
       "9                 17.0                 102.0   0.9978  3.35       0.80   \n",
       "\n",
       "   alcohol  quality  \n",
       "0      9.4        5  \n",
       "1      9.8        5  \n",
       "2      9.8        5  \n",
       "3      9.8        6  \n",
       "4      9.4        5  \n",
       "5      9.4        5  \n",
       "6      9.4        5  \n",
       "7     10.0        7  \n",
       "8      9.5        7  \n",
       "9     10.5        5  "
      ]
     },
     "execution_count": 43,
     "metadata": {},
     "output_type": "execute_result"
    }
   ],
   "source": [
    "random.seed(42) # define a semente (importante para reproduzir os resultados)\n",
    "\n",
    "dir_file = '/home/andressa/Desktop/' # criando um objeto do meu diretorio do dataset\n",
    "\n",
    "os.chdir(dir_file) # setando aonde meu dataset está\n",
    "df = pd.read_csv('winequality-red.csv') # importando os dados\n",
    "\n",
    "print(\"Número de linhas e colunas no dataset:\", df.shape) # funcao de printar\n",
    "attributes = list(df.columns) # construindo um objeto tipo lista para armazenar os nomes das variaveis\n",
    "df.head(10) # funcao head para mostrar uma amostra do dataset"
   ]
  },
  {
   "cell_type": "code",
   "execution_count": 44,
   "metadata": {},
   "outputs": [
    {
     "data": {
      "text/html": [
       "<div>\n",
       "<style scoped>\n",
       "    .dataframe tbody tr th:only-of-type {\n",
       "        vertical-align: middle;\n",
       "    }\n",
       "\n",
       "    .dataframe tbody tr th {\n",
       "        vertical-align: top;\n",
       "    }\n",
       "\n",
       "    .dataframe thead th {\n",
       "        text-align: right;\n",
       "    }\n",
       "</style>\n",
       "<table border=\"1\" class=\"dataframe\">\n",
       "  <thead>\n",
       "    <tr style=\"text-align: right;\">\n",
       "      <th></th>\n",
       "      <th>fixed acidity</th>\n",
       "      <th>volatile acidity</th>\n",
       "      <th>citric acid</th>\n",
       "      <th>residual sugar</th>\n",
       "      <th>chlorides</th>\n",
       "      <th>free sulfur dioxide</th>\n",
       "      <th>total sulfur dioxide</th>\n",
       "      <th>density</th>\n",
       "      <th>pH</th>\n",
       "      <th>sulphates</th>\n",
       "      <th>quality</th>\n",
       "      <th>alcohol</th>\n",
       "    </tr>\n",
       "  </thead>\n",
       "  <tbody>\n",
       "    <tr>\n",
       "      <th>0</th>\n",
       "      <td>7.4</td>\n",
       "      <td>0.700</td>\n",
       "      <td>0.00</td>\n",
       "      <td>1.9</td>\n",
       "      <td>0.076</td>\n",
       "      <td>11.0</td>\n",
       "      <td>34.0</td>\n",
       "      <td>0.99780</td>\n",
       "      <td>3.51</td>\n",
       "      <td>0.56</td>\n",
       "      <td>5</td>\n",
       "      <td>9.4</td>\n",
       "    </tr>\n",
       "    <tr>\n",
       "      <th>1</th>\n",
       "      <td>7.8</td>\n",
       "      <td>0.880</td>\n",
       "      <td>0.00</td>\n",
       "      <td>2.6</td>\n",
       "      <td>0.098</td>\n",
       "      <td>25.0</td>\n",
       "      <td>67.0</td>\n",
       "      <td>0.99680</td>\n",
       "      <td>3.20</td>\n",
       "      <td>0.68</td>\n",
       "      <td>5</td>\n",
       "      <td>9.8</td>\n",
       "    </tr>\n",
       "    <tr>\n",
       "      <th>2</th>\n",
       "      <td>7.8</td>\n",
       "      <td>0.760</td>\n",
       "      <td>0.04</td>\n",
       "      <td>2.3</td>\n",
       "      <td>0.092</td>\n",
       "      <td>15.0</td>\n",
       "      <td>54.0</td>\n",
       "      <td>0.99700</td>\n",
       "      <td>3.26</td>\n",
       "      <td>0.65</td>\n",
       "      <td>5</td>\n",
       "      <td>9.8</td>\n",
       "    </tr>\n",
       "    <tr>\n",
       "      <th>3</th>\n",
       "      <td>11.2</td>\n",
       "      <td>0.280</td>\n",
       "      <td>0.56</td>\n",
       "      <td>1.9</td>\n",
       "      <td>0.075</td>\n",
       "      <td>17.0</td>\n",
       "      <td>60.0</td>\n",
       "      <td>0.99800</td>\n",
       "      <td>3.16</td>\n",
       "      <td>0.58</td>\n",
       "      <td>6</td>\n",
       "      <td>9.8</td>\n",
       "    </tr>\n",
       "    <tr>\n",
       "      <th>4</th>\n",
       "      <td>7.4</td>\n",
       "      <td>0.700</td>\n",
       "      <td>0.00</td>\n",
       "      <td>1.9</td>\n",
       "      <td>0.076</td>\n",
       "      <td>11.0</td>\n",
       "      <td>34.0</td>\n",
       "      <td>0.99780</td>\n",
       "      <td>3.51</td>\n",
       "      <td>0.56</td>\n",
       "      <td>5</td>\n",
       "      <td>9.4</td>\n",
       "    </tr>\n",
       "    <tr>\n",
       "      <th>...</th>\n",
       "      <td>...</td>\n",
       "      <td>...</td>\n",
       "      <td>...</td>\n",
       "      <td>...</td>\n",
       "      <td>...</td>\n",
       "      <td>...</td>\n",
       "      <td>...</td>\n",
       "      <td>...</td>\n",
       "      <td>...</td>\n",
       "      <td>...</td>\n",
       "      <td>...</td>\n",
       "      <td>...</td>\n",
       "    </tr>\n",
       "    <tr>\n",
       "      <th>1594</th>\n",
       "      <td>6.2</td>\n",
       "      <td>0.600</td>\n",
       "      <td>0.08</td>\n",
       "      <td>2.0</td>\n",
       "      <td>0.090</td>\n",
       "      <td>32.0</td>\n",
       "      <td>44.0</td>\n",
       "      <td>0.99490</td>\n",
       "      <td>3.45</td>\n",
       "      <td>0.58</td>\n",
       "      <td>5</td>\n",
       "      <td>10.5</td>\n",
       "    </tr>\n",
       "    <tr>\n",
       "      <th>1595</th>\n",
       "      <td>5.9</td>\n",
       "      <td>0.550</td>\n",
       "      <td>0.10</td>\n",
       "      <td>2.2</td>\n",
       "      <td>0.062</td>\n",
       "      <td>39.0</td>\n",
       "      <td>51.0</td>\n",
       "      <td>0.99512</td>\n",
       "      <td>3.52</td>\n",
       "      <td>0.76</td>\n",
       "      <td>6</td>\n",
       "      <td>11.2</td>\n",
       "    </tr>\n",
       "    <tr>\n",
       "      <th>1596</th>\n",
       "      <td>6.3</td>\n",
       "      <td>0.510</td>\n",
       "      <td>0.13</td>\n",
       "      <td>2.3</td>\n",
       "      <td>0.076</td>\n",
       "      <td>29.0</td>\n",
       "      <td>40.0</td>\n",
       "      <td>0.99574</td>\n",
       "      <td>3.42</td>\n",
       "      <td>0.75</td>\n",
       "      <td>6</td>\n",
       "      <td>11.0</td>\n",
       "    </tr>\n",
       "    <tr>\n",
       "      <th>1597</th>\n",
       "      <td>5.9</td>\n",
       "      <td>0.645</td>\n",
       "      <td>0.12</td>\n",
       "      <td>2.0</td>\n",
       "      <td>0.075</td>\n",
       "      <td>32.0</td>\n",
       "      <td>44.0</td>\n",
       "      <td>0.99547</td>\n",
       "      <td>3.57</td>\n",
       "      <td>0.71</td>\n",
       "      <td>5</td>\n",
       "      <td>10.2</td>\n",
       "    </tr>\n",
       "    <tr>\n",
       "      <th>1598</th>\n",
       "      <td>6.0</td>\n",
       "      <td>0.310</td>\n",
       "      <td>0.47</td>\n",
       "      <td>3.6</td>\n",
       "      <td>0.067</td>\n",
       "      <td>18.0</td>\n",
       "      <td>42.0</td>\n",
       "      <td>0.99549</td>\n",
       "      <td>3.39</td>\n",
       "      <td>0.66</td>\n",
       "      <td>6</td>\n",
       "      <td>11.0</td>\n",
       "    </tr>\n",
       "  </tbody>\n",
       "</table>\n",
       "<p>1599 rows × 12 columns</p>\n",
       "</div>"
      ],
      "text/plain": [
       "      fixed acidity  volatile acidity  citric acid  residual sugar  chlorides  \\\n",
       "0               7.4             0.700         0.00             1.9      0.076   \n",
       "1               7.8             0.880         0.00             2.6      0.098   \n",
       "2               7.8             0.760         0.04             2.3      0.092   \n",
       "3              11.2             0.280         0.56             1.9      0.075   \n",
       "4               7.4             0.700         0.00             1.9      0.076   \n",
       "...             ...               ...          ...             ...        ...   \n",
       "1594            6.2             0.600         0.08             2.0      0.090   \n",
       "1595            5.9             0.550         0.10             2.2      0.062   \n",
       "1596            6.3             0.510         0.13             2.3      0.076   \n",
       "1597            5.9             0.645         0.12             2.0      0.075   \n",
       "1598            6.0             0.310         0.47             3.6      0.067   \n",
       "\n",
       "      free sulfur dioxide  total sulfur dioxide  density    pH  sulphates  \\\n",
       "0                    11.0                  34.0  0.99780  3.51       0.56   \n",
       "1                    25.0                  67.0  0.99680  3.20       0.68   \n",
       "2                    15.0                  54.0  0.99700  3.26       0.65   \n",
       "3                    17.0                  60.0  0.99800  3.16       0.58   \n",
       "4                    11.0                  34.0  0.99780  3.51       0.56   \n",
       "...                   ...                   ...      ...   ...        ...   \n",
       "1594                 32.0                  44.0  0.99490  3.45       0.58   \n",
       "1595                 39.0                  51.0  0.99512  3.52       0.76   \n",
       "1596                 29.0                  40.0  0.99574  3.42       0.75   \n",
       "1597                 32.0                  44.0  0.99547  3.57       0.71   \n",
       "1598                 18.0                  42.0  0.99549  3.39       0.66   \n",
       "\n",
       "      quality  alcohol  \n",
       "0           5      9.4  \n",
       "1           5      9.8  \n",
       "2           5      9.8  \n",
       "3           6      9.8  \n",
       "4           5      9.4  \n",
       "...       ...      ...  \n",
       "1594        5     10.5  \n",
       "1595        6     11.2  \n",
       "1596        6     11.0  \n",
       "1597        5     10.2  \n",
       "1598        6     11.0  \n",
       "\n",
       "[1599 rows x 12 columns]"
      ]
     },
     "execution_count": 44,
     "metadata": {},
     "output_type": "execute_result"
    }
   ],
   "source": [
    "alcool = df.alcohol # separando a variavel alcohol do dataset e colocando no final\n",
    "df.drop(['alcohol'],axis = 1, inplace = True)\n",
    "df['alcohol'] = alcool\n",
    "df"
   ]
  },
  {
   "cell_type": "code",
   "execution_count": 45,
   "metadata": {},
   "outputs": [
    {
     "name": "stdout",
     "output_type": "stream",
     "text": [
      "Dados originais:\n",
      "Media:  [ 8.31963727  0.52782051  0.27097561  2.5388055   0.08746654 15.87492183\n",
      " 46.46779237  0.99674668  3.3111132   0.65814884  5.63602251]\n",
      "Desvio Padrao: [1.74055180e+00 1.79003704e-01 1.94740214e-01 1.40948711e+00\n",
      " 4.70505826e-02 1.04568856e+01 3.28850367e+01 1.88674370e-03\n",
      " 1.54338181e-01 1.69453967e-01 8.07316877e-01]\n"
     ]
    }
   ],
   "source": [
    "# convertemos em formato numpy para facilitar a manipulacao dos dados\n",
    "df = df.to_numpy() # dataframe do pandas para array numpy\n",
    "nrow,ncol = df.shape # atribuindo aos objetos nrow e ncol o tamanho do conjunto de dados\n",
    "y = df[:,-1] # separando a variavel target\n",
    "X = df[:,0:ncol-1] # construindo o dataset de analise sem a variavel target\n",
    "\n",
    "print('Dados originais:') # mostrando a média e desvio padrao dos atributos do conjunto de dados X ja transformados\n",
    "print('Media: ', np.mean(X, axis = 0)) # média dos dados\n",
    "print('Desvio Padrao:', np.std(X, axis = 0)) # desvio padrao dos dados"
   ]
  },
  {
   "cell_type": "code",
   "execution_count": 46,
   "metadata": {},
   "outputs": [
    {
     "name": "stdout",
     "output_type": "stream",
     "text": [
      "Dados transformados:\n",
      "Media:  [ 3.55493551e-16  1.73303106e-16 -8.88733878e-17 -1.24422743e-16\n",
      "  3.82155568e-16 -6.22113715e-17  4.44366939e-17 -3.47317200e-14\n",
      "  2.86172309e-15  6.75437748e-16  8.88733878e-17]\n",
      "Desvio Padrao: [1. 1. 1. 1. 1. 1. 1. 1. 1. 1. 1.]\n"
     ]
    }
   ],
   "source": [
    "# normalização dos dados de forma a evitar problemas de escala nos atributos\n",
    "\n",
    "scaler = StandardScaler().fit(X) # normalização dos dados\n",
    "X = scaler.transform(X) # tranformação dos dados\n",
    "\n",
    "print('Dados transformados:') # mostrando a média e desvio padrao dos atributos do conjunto de dados X ja transformados\n",
    "print('Media: ', np.mean(X, axis = 0)) # media dos dados padronizados\n",
    "print('Desvio Padrao:', np.std(X, axis = 0)) # desvio padrao dos dados padronizados"
   ]
  },
  {
   "cell_type": "code",
   "execution_count": 47,
   "metadata": {},
   "outputs": [],
   "source": [
    "# Split the data into training and testing sets\n",
    "p = 0.3 # fracao de elementos no conjunto de teste\n",
    "x_train, x_test, y_train, y_test = train_test_split(X, y, test_size = p, random_state = 42)"
   ]
  },
  {
   "cell_type": "code",
   "execution_count": 48,
   "metadata": {},
   "outputs": [],
   "source": [
    "lm = LinearRegression() # modelo de regressão linear múltipla\n",
    "lm.fit(x_train, y_train) # ajuste do modelo de regressao linear multipla\n",
    "\n",
    "y_pred = lm.predict(x_test) # valores preditos"
   ]
  },
  {
   "cell_type": "markdown",
   "metadata": {},
   "source": [
    "Notem que como temos várias variáveis, não é possível mostrar os resultados em mais de três dimensões. Nesse caso, uma maneira de visualizar a precisão na predição é graficar os valores reais versus as predições, como mostramos abaixo."
   ]
  },
  {
   "cell_type": "code",
   "execution_count": 49,
   "metadata": {},
   "outputs": [
    {
     "data": {
      "image/png": "[encoded data removed]",
      "text/plain": [
       "<Figure size 432x288 with 1 Axes>"
      ]
     },
     "metadata": {
      "needs_background": "light"
     },
     "output_type": "display_data"
    }
   ],
   "source": [
    "fig = plt.figure() # plotagem\n",
    "l = plt.plot(y_pred, y_test, 'bo')\n",
    "plt.setp(l, markersize=10)\n",
    "plt.setp(l, markerfacecolor='C0')\n",
    "\n",
    "plt.ylabel(\"y\", fontsize=15) # ajustes dos eixos dos graficos\n",
    "plt.xlabel(\"Prediction\", fontsize=15)\n",
    "\n",
    "# mostra os valores preditos e originais\n",
    "xl = np.arange(min(y_test), 1.2*max(y_test),(max(y_test)-min(y_test))/10)\n",
    "yl = xl\n",
    "plt.plot(xl, yl, 'r--')\n",
    "plt.show(True)"
   ]
  },
  {
   "cell_type": "markdown",
   "metadata": {},
   "source": [
    "Quanto mais próximo da reta em vermelho, melhor será a predição, pois essa reta representa o caso em que  𝑦̂ =𝑦 .\n",
    "\n",
    "Para quantificarmos o ajuste, calculamos o coeficiente R2."
   ]
  },
  {
   "cell_type": "code",
   "execution_count": 50,
   "metadata": {},
   "outputs": [
    {
     "name": "stdout",
     "output_type": "stream",
     "text": [
      "R2: 0.706569863175307\n"
     ]
    }
   ],
   "source": [
    "from sklearn.metrics import r2_score\n",
    "R2 = r2_score(y_test, y_pred)\n",
    "print('R2:', R2)"
   ]
  },
  {
   "cell_type": "markdown",
   "metadata": {},
   "source": [
    "O modelo de regressão linear apresentou um R2 de 0.706569863175307, arredondamos, temos 0.7 de R2."
   ]
  },
  {
   "cell_type": "code",
   "execution_count": 51,
   "metadata": {},
   "outputs": [
    {
     "data": {
      "text/html": [
       "<div>\n",
       "<style scoped>\n",
       "    .dataframe tbody tr th:only-of-type {\n",
       "        vertical-align: middle;\n",
       "    }\n",
       "\n",
       "    .dataframe tbody tr th {\n",
       "        vertical-align: top;\n",
       "    }\n",
       "\n",
       "    .dataframe thead th {\n",
       "        text-align: right;\n",
       "    }\n",
       "</style>\n",
       "<table border=\"1\" class=\"dataframe\">\n",
       "  <thead>\n",
       "    <tr style=\"text-align: right;\">\n",
       "      <th></th>\n",
       "      <th>0</th>\n",
       "    </tr>\n",
       "  </thead>\n",
       "  <tbody>\n",
       "    <tr>\n",
       "      <th>count</th>\n",
       "      <td>480.000000</td>\n",
       "    </tr>\n",
       "    <tr>\n",
       "      <th>mean</th>\n",
       "      <td>10.452496</td>\n",
       "    </tr>\n",
       "    <tr>\n",
       "      <th>std</th>\n",
       "      <td>0.920253</td>\n",
       "    </tr>\n",
       "    <tr>\n",
       "      <th>min</th>\n",
       "      <td>8.459658</td>\n",
       "    </tr>\n",
       "    <tr>\n",
       "      <th>25%</th>\n",
       "      <td>9.771493</td>\n",
       "    </tr>\n",
       "    <tr>\n",
       "      <th>50%</th>\n",
       "      <td>10.203251</td>\n",
       "    </tr>\n",
       "    <tr>\n",
       "      <th>75%</th>\n",
       "      <td>11.123996</td>\n",
       "    </tr>\n",
       "    <tr>\n",
       "      <th>max</th>\n",
       "      <td>13.577200</td>\n",
       "    </tr>\n",
       "  </tbody>\n",
       "</table>\n",
       "</div>"
      ],
      "text/plain": [
       "                0\n",
       "count  480.000000\n",
       "mean    10.452496\n",
       "std      0.920253\n",
       "min      8.459658\n",
       "25%      9.771493\n",
       "50%     10.203251\n",
       "75%     11.123996\n",
       "max     13.577200"
      ]
     },
     "execution_count": 51,
     "metadata": {},
     "output_type": "execute_result"
    }
   ],
   "source": [
    "# percentagem de alcool predita\n",
    "pd.DataFrame(y_pred).describe()"
   ]
  },
  {
   "cell_type": "markdown",
   "metadata": {},
   "source": [
    "11 - Compare os métodos Lasso, Ridge Regression, calculando o erro quadrático médio em função dos seus parâmetros (alpha)."
   ]
  },
  {
   "cell_type": "code",
   "execution_count": 53,
   "metadata": {},
   "outputs": [
    {
     "data": {
      "image/png": "[encoded data removed]",
      "text/plain": [
       "<Figure size 432x288 with 1 Axes>"
      ]
     },
     "metadata": {
      "needs_background": "light"
     },
     "output_type": "display_data"
    }
   ],
   "source": [
    "vR2 = []\n",
    "valpha = []\n",
    "for alpha in np.arange(0.01,2,0.1):\n",
    "    lasso = Lasso(alpha = alpha, normalize = True)\n",
    "    lasso.fit(x_train, y_train)             # Fit a ridge regression on the training data\n",
    "    y_pred = lasso.predict(x_test)           # Use this model to predict the test data\n",
    "    r2 = r2_score(y_test, y_pred)\n",
    "    vR2.append(r2)\n",
    "    valpha.append(alpha)\n",
    "plt.plot(valpha, vR2, '-ro')\n",
    "plt.xlabel(\"alpha\", fontsize=15)\n",
    "plt.ylabel(\"R2\", fontsize=15)\n",
    "plt.show(True)"
   ]
  },
  {
   "cell_type": "code",
   "execution_count": 54,
   "metadata": {},
   "outputs": [
    {
     "data": {
      "image/png": "[encoded data removed]",
      "text/plain": [
       "<Figure size 432x288 with 1 Axes>"
      ]
     },
     "metadata": {
      "needs_background": "light"
     },
     "output_type": "display_data"
    }
   ],
   "source": [
    "vR2 = []\n",
    "valpha = []\n",
    "# variamos os valaores de alpha\n",
    "for alpha in np.arange(0,10,0.5):\n",
    "    ridge2 = Ridge(alpha = alpha, normalize = True)\n",
    "    ridge2.fit(x_train, y_train)             # Fit a ridge regression on the training data\n",
    "    y_pred = ridge2.predict(x_test)           # Use this model to predict the test data\n",
    "    r2 = r2_score(y_test, y_pred)\n",
    "    vR2.append(r2)\n",
    "    valpha.append(alpha)\n",
    "plt.plot(valpha, vR2, '-ro')\n",
    "plt.xlabel(\"alpha\", fontsize=15)\n",
    "plt.ylabel(\"R2\", fontsize=15)\n",
    "plt.show(True)"
   ]
  },
  {
   "cell_type": "markdown",
   "metadata": {},
   "source": [
    "Podemos ver que para o modelo de regressao linear multiplo, obtemos um R2 de 0.7 aproximadamente para para o lasso e ridge os maiores valores, quando alpha é igual a 0, equiparam-se ao valor obtido no modelo de regressao linear multipla. Em termos computacionais mais se vale usar o modelo de regressao linear multipla do que se gastar processamento com otimizacoes que nao vao dar resultados melhores para a analise"
   ]
  },
  {
   "cell_type": "markdown",
   "metadata": {},
   "source": [
    "12 - Discussão dos resultados obtidos"
   ]
  },
  {
   "cell_type": "code",
   "execution_count": null,
   "metadata": {},
   "outputs": [],
   "source": []
  },
  {
   "cell_type": "code",
   "execution_count": null,
   "metadata": {},
   "outputs": [],
   "source": []
  },
  {
   "cell_type": "code",
   "execution_count": null,
   "metadata": {},
   "outputs": [],
   "source": []
  }
 ],
 "metadata": {
  "kernelspec": {
   "display_name": "Python 3",
   "language": "python",
   "name": "python3"
  },
  "language_info": {
   "codemirror_mode": {
    "name": "ipython",
    "version": 3
   },
   "file_extension": ".py",
   "mimetype": "text/x-python",
   "name": "python",
   "nbconvert_exporter": "python",
   "pygments_lexer": "ipython3",
   "version": "3.7.3"
  }
 },
 "nbformat": 4,
 "nbformat_minor": 4
}
