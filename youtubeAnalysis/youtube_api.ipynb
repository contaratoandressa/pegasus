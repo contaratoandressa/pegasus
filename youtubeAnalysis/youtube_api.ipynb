{
 "cells": [
  {
   "cell_type": "markdown",
   "metadata": {},
   "source": [
    "# Coleta de Dados com a API do Youtube"
   ]
  },
  {
   "cell_type": "markdown",
   "metadata": {},
   "source": [
    "<img src=\"200.gif\" width=\"550\" align=\"center\">"
   ]
  },
  {
   "cell_type": "markdown",
   "metadata": {},
   "source": [
    "Fonte: https://giphy.com/explore/youtube"
   ]
  },
  {
   "cell_type": "markdown",
   "metadata": {},
   "source": [
    "### Motivação: \n",
    "\n",
    "1. Coleta de dados e metadados de vídeos da plataforma Youtube\n",
    "2. Analisar por meio de KPI's os dados de vídeos do Youtube"
   ]
  },
  {
   "cell_type": "markdown",
   "metadata": {},
   "source": [
    "<font color ='orange'> Criando chave de acesso a API do Youtube </font>"
   ]
  },
  {
   "cell_type": "markdown",
   "metadata": {},
   "source": [
    "Link: https://developers.google.com/youtube/v3/docs?hl=pt-br"
   ]
  },
  {
   "cell_type": "markdown",
   "metadata": {},
   "source": [
    "Link tutorial coleta de dados pela API: https://pypi.org/project/youtube-data-api/"
   ]
  },
  {
   "cell_type": "code",
   "execution_count": 4,
   "metadata": {},
   "outputs": [],
   "source": [
    "# pacotes\n",
    "import pandas as pd\n",
    "import numpy as np\n",
    "import os \n",
    "import time\n",
    "import re\n",
    "from datetime import datetime\n",
    "from youtube_api import YouTubeDataAPI"
   ]
  },
  {
   "cell_type": "code",
   "execution_count": null,
   "metadata": {},
   "outputs": [],
   "source": [
    "api_key = \"chave de acesso\"\n",
    "yt = YouTubeDataAPI(api_key)"
   ]
  },
  {
   "cell_type": "code",
   "execution_count": null,
   "metadata": {},
   "outputs": [],
   "source": [
    "def get_videos(query, start, end):\n",
    "    '''\n",
    "    Function to collect videos.\n",
    "\n",
    "    Arguments:\n",
    "        query{str} -- query about the terms that you want\n",
    "        start{data} -- initial data\n",
    "        end{data} -- end data\n",
    "\n",
    "    Return:\n",
    "        [str] -- videos\n",
    "\n",
    "    '''\n",
    "    searches = yt.search(q=query,\n",
    "                         max_results=50, \n",
    "                         published_after=start, \n",
    "                         published_before=end,\n",
    "                         search_type='video'\n",
    "                        )\n",
    "    \n",
    "    print(searches)\n",
    "    videos = [result['video_id'] for result in searches]\n",
    "    return videos\n",
    "\n",
    "def export(data, filename):\n",
    "    '''\n",
    "    Function to export data.\n",
    "\n",
    "    Arguments:\n",
    "        data{str} -- dataset\n",
    "        filename{filename} -- directory that you insert new dataset\n",
    "\n",
    "    Return:\n",
    "\n",
    "    '''    \n",
    "    file = open(filename, 'w')\n",
    "    file.close()\n",
    "\n",
    "    timestamp = time.mktime((1980, 1, 1, 0, 0, 0, 0, 0, 0))\n",
    "    os.utime(filename, (timestamp, timestamp))\n",
    "    data.to_excel(filename, engine='xlsxwriter', index=False)\n",
    "    \n",
    "def get_id(link):\n",
    "    '''\n",
    "    Function to extract the id of a publication.\n",
    "\n",
    "    Arguments:\n",
    "        link{str} -- link of the publication\n",
    "\n",
    "    Return:\n",
    "        [str] -- id of the publication\n",
    "\n",
    "    '''    \n",
    "    if 'twitter' in link:\n",
    "        pub_id = re.search(\"\\/(?:.(?!\\/))+$\",link)\n",
    "        pub_id = pub_id[0].replace('/','')\n",
    "    else:\n",
    "        pub_id = re.search(\"(?<=v=)[^\\]](\\w+)\",link)\n",
    "        pub_id = pub_id[0]\n",
    "    return pub_id"
   ]
  },
  {
   "cell_type": "code",
   "execution_count": null,
   "metadata": {},
   "outputs": [],
   "source": [
    "# api collect\n",
    "videos = get_videos([query], start=datetime(year, month, day, hour, minute), end=datetime(year, month, day, hour, minute))"
   ]
  },
  {
   "cell_type": "code",
   "execution_count": null,
   "metadata": {},
   "outputs": [],
   "source": [
    "# dataset\n",
    "metadata_videos = pd.DataFrame(yt.get_video_metadata(videos))"
   ]
  },
  {
   "cell_type": "code",
   "execution_count": null,
   "metadata": {},
   "outputs": [],
   "source": [
    "# adjust dataset\n",
    "metadata_videos['video_comment_count'] = metadata_videos['video_comment_count'].fillna(0)\n",
    "metadata_videos['video_view_count'] = metadata_videos['video_comment_count'].fillna(0)\n",
    "metadata_videos['video_like_count'] = metadata_videos['video_like_count'].fillna(0)\n",
    "metadata_videos['video_dislike_count'] = metadata_videos['video_dislike_count'].fillna(0)\n",
    "\n",
    "metadata_videos['video_comment_count'] = [int(x) for x in metadata_videos['video_comment_count']]\n",
    "metadata_videos['video_view_count'] = [int(x) for x in metadata_videos['video_view_count']]\n",
    "metadata_videos['video_like_count'] = [int(x) for x in metadata_videos['video_like_count']]\n",
    "metadata_videos['video_dislike_count'] = [int(x) for x in metadata_videos['video_dislike_count']]"
   ]
  },
  {
   "cell_type": "markdown",
   "metadata": {},
   "source": [
    "KPI's"
   ]
  },
  {
   "cell_type": "markdown",
   "metadata": {},
   "source": [
    "1 - Comment Rate"
   ]
  },
  {
   "cell_type": "markdown",
   "metadata": {},
   "source": [
    "$$\\frac{\\mbox{video comment count}}{\\mbox{video view count}}$$"
   ]
  },
  {
   "cell_type": "markdown",
   "metadata": {},
   "source": [
    "2 - Engage"
   ]
  },
  {
   "cell_type": "markdown",
   "metadata": {},
   "source": [
    "$$\\frac{3*\\mbox{video comment count} + 2*\\mbox{video view count} + \\mbox{video like count} - \\mbox{video dislike count}}{3+2+1+1}$$"
   ]
  },
  {
   "cell_type": "markdown",
   "metadata": {},
   "source": [
    "3 - Positive Rate"
   ]
  },
  {
   "cell_type": "markdown",
   "metadata": {},
   "source": [
    "$$\\frac{\\mbox{video like count}}{\\mbox{video view count}}$$"
   ]
  },
  {
   "cell_type": "markdown",
   "metadata": {},
   "source": [
    "4 - Negative Rate"
   ]
  },
  {
   "cell_type": "markdown",
   "metadata": {},
   "source": [
    "$$\\frac{\\mbox{video dislike count}}{\\mbox{video view count}}$$"
   ]
  },
  {
   "cell_type": "code",
   "execution_count": null,
   "metadata": {},
   "outputs": [],
   "source": [
    "# kpi's\n",
    "metadata_videos['comment_rate'] = (metadata_videos['video_comment_count']/metadata_videos['video_view_count']).sort_values()\n",
    "metadata_videos['engage'] = (3*metadata_videos['video_comment_count'] + 2*metadata_videos['video_view_count'] + metadata_videos['video_like_count'] - metadata_videos['video_dislike_count'])/(3+2+1+1)\n",
    "\n",
    "metadata_videos['pos_rate'] = metadata_videos['video_like_count']/metadata_videos['video_view_count']\n",
    "metadata_videos['neg_rate'] = metadata_videos['video_dislike_count']/metadata_videos['video_view_count']"
   ]
  },
  {
   "cell_type": "code",
   "execution_count": null,
   "metadata": {},
   "outputs": [],
   "source": [
    "# save dataset \n",
    "metadata_videos.to_excel('.../dataset.xlsx')"
   ]
  }
 ],
 "metadata": {
  "kernelspec": {
   "display_name": "Python 3",
   "language": "python",
   "name": "python3"
  },
  "language_info": {
   "codemirror_mode": {
    "name": "ipython",
    "version": 3
   },
   "file_extension": ".py",
   "mimetype": "text/x-python",
   "name": "python",
   "nbconvert_exporter": "python",
   "pygments_lexer": "ipython3",
   "version": "3.7.3"
  }
 },
 "nbformat": 4,
 "nbformat_minor": 4
}
